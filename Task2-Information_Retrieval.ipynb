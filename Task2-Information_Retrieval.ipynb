{
 "cells": [
  {
   "cell_type": "markdown",
   "id": "administrative-assembly",
   "metadata": {},
   "source": [
    "# Task 2: Information Retrieval"
   ]
  },
  {
   "cell_type": "markdown",
   "id": "overhead-community",
   "metadata": {},
   "source": [
    "## Document Indexing\n",
    "\n",
    "Document indexing is the method of using specific attributes of a document to create an index. This index is used to be able to retrieve the information from the document. In this case we will be the TF.IDF value which will be stored using a term by document matrix.\n",
    "\n",
    "A term-document matrix is a mathematical matrix that describes the frequency of terms that occur in a collection of documents. This is a matrix where. Each row represents one document. Each column represents one term (word)"
   ]
  },
  {
   "cell_type": "markdown",
   "id": "retired-grill",
   "metadata": {},
   "source": [
    "Importing all necessary libraries"
   ]
  },
  {
   "cell_type": "code",
   "execution_count": 1,
   "id": "superior-colon",
   "metadata": {},
   "outputs": [],
   "source": [
    "#Libraries for Pre-Processing\n",
    "import os\n",
    "import nltk\n",
    "from nltk.corpus import stopwords\n",
    "from nltk.stem import PorterStemmer \n",
    "from bs4 import BeautifulSoup as bs\n",
    "\n",
    "#Libraries for TF-IDF and Cosine Similarity\n",
    "import math\n",
    "import numpy as np\n",
    "from collections import Counter "
   ]
  },
  {
   "cell_type": "markdown",
   "id": "middle-pharmacology",
   "metadata": {},
   "source": [
    "### Pre-Processing\n",
    "\n",
    "Pre-Processing is the process of preparing data so that it could be further analysed. This includes tokenization, case folding, stop-word removal and stemming. This makes the data much more manageable and so easier to analyse."
   ]
  },
  {
   "cell_type": "markdown",
   "id": "advisory-sharp",
   "metadata": {},
   "source": [
    "Reading from File"
   ]
  },
  {
   "cell_type": "code",
   "execution_count": 2,
   "id": "agreed-circle",
   "metadata": {},
   "outputs": [],
   "source": [
    "def read_file(fileName):\n",
    "\n",
    "    content = []\n",
    "    with open(fileName, 'r', encoding=\"utf8\") as file:\n",
    "        # Read each line in the file, readlines() returns a list of lines\n",
    "        content = file.readlines()\n",
    "\n",
    "        # Combine the lines in the list into a string\n",
    "        content = \"\".join(content)\n",
    "        bs_content = bs(content, \"xml\")\n",
    "\n",
    "    #returns \"bs4.element.Tag\" object\n",
    "    result = bs_content.find(\"raw\")\n",
    "    #print(result.prettify())\n",
    "\n",
    "    return result"
   ]
  },
  {
   "cell_type": "markdown",
   "id": "still-guatemala",
   "metadata": {},
   "source": [
    "Changing from a bs4.element.Tag object to a String."
   ]
  },
  {
   "cell_type": "code",
   "execution_count": 3,
   "id": "statutory-breed",
   "metadata": {},
   "outputs": [],
   "source": [
    "def convert_Text(data):\n",
    "\n",
    "    text = data.get_text()\n",
    "\n",
    "    return text"
   ]
  },
  {
   "cell_type": "markdown",
   "id": "assigned-transaction",
   "metadata": {},
   "source": [
    "Tokenizing the Data"
   ]
  },
  {
   "cell_type": "code",
   "execution_count": 4,
   "id": "severe-spain",
   "metadata": {},
   "outputs": [],
   "source": [
    "def tokenize(data):\n",
    "    \n",
    "    tokens = nltk.word_tokenize(data)\n",
    "\n",
    "    return tokens"
   ]
  },
  {
   "cell_type": "markdown",
   "id": "consecutive-tablet",
   "metadata": {},
   "source": [
    "Changing all the words to lowercase"
   ]
  },
  {
   "cell_type": "code",
   "execution_count": 5,
   "id": "surface-snowboard",
   "metadata": {},
   "outputs": [],
   "source": [
    "def change_case(data):\n",
    "\n",
    "    for i in range(len(data)):\n",
    "        data[i] = data[i].casefold()\n",
    "\n",
    "    return data"
   ]
  },
  {
   "cell_type": "markdown",
   "id": "political-integrity",
   "metadata": {},
   "source": [
    "Removing all 'extra' words, such as “the”, “is” and “and”. These do not give us any meaning and so can be ignored."
   ]
  },
  {
   "cell_type": "code",
   "execution_count": 6,
   "id": "novel-network",
   "metadata": {},
   "outputs": [],
   "source": [
    "def remove_stop_words(data):\n",
    "    \n",
    "    stop_words = set(stopwords.words('english'))\n",
    "\n",
    "    filtered_list = []\n",
    "\n",
    "    for word in data: \n",
    "        if word not in stop_words:\n",
    "            filtered_list.append(word)\n",
    "\n",
    "    return filtered_list"
   ]
  },
  {
   "cell_type": "markdown",
   "id": "colonial-minute",
   "metadata": {},
   "source": [
    "Stemming reduces the word to its essence, rather than grammatical correctnes. For example \"waiting\" and \"waits\" would both be reduced to \"wait\"."
   ]
  },
  {
   "cell_type": "code",
   "execution_count": 7,
   "id": "electric-tender",
   "metadata": {},
   "outputs": [],
   "source": [
    "def stemming(data):\n",
    "    \n",
    "    ps = PorterStemmer() \n",
    "\n",
    "    for i in range(len(data)):\n",
    "        data[i] = ps.stem(data[i])\n",
    "\n",
    "    return data"
   ]
  },
  {
   "cell_type": "markdown",
   "id": "under-toilet",
   "metadata": {},
   "source": [
    "Removing Symbols"
   ]
  },
  {
   "cell_type": "code",
   "execution_count": 8,
   "id": "balanced-england",
   "metadata": {},
   "outputs": [],
   "source": [
    "def remove_symbols(data):\n",
    "    \n",
    "    temp = []\n",
    "\n",
    "    symbols = \"“”‘’!\\\"#$€%&()*'+-,./:;<=>?@[\\]^_`{|}~\\n\"\n",
    "    for t in data:\n",
    "        if t not in symbols:\n",
    "            temp.append(t)\n",
    "            \n",
    "    return temp"
   ]
  },
  {
   "cell_type": "code",
   "execution_count": 9,
   "id": "juvenile-agreement",
   "metadata": {},
   "outputs": [],
   "source": [
    "def preprocessing(filename):\n",
    "    data = read_file(filename)\n",
    "    data = convert_Text(data)\n",
    "    data = tokenize(data)\n",
    "    data = change_case(data)\n",
    "    data = remove_stop_words(data)\n",
    "    data = stemming(data)\n",
    "    data = remove_symbols(data)\n",
    "    \n",
    "    return data"
   ]
  },
  {
   "cell_type": "markdown",
   "id": "miniature-ending",
   "metadata": {},
   "source": [
    "### Printing and Data managment"
   ]
  },
  {
   "cell_type": "markdown",
   "id": "arbitrary-legend",
   "metadata": {},
   "source": [
    "Returns the query selected as text"
   ]
  },
  {
   "cell_type": "code",
   "execution_count": 10,
   "id": "published-silence",
   "metadata": {},
   "outputs": [],
   "source": [
    "def print_query(filename):\n",
    "    data = read_file(filename)\n",
    "    data = convert_Text(data)\n",
    "    \n",
    "    return data"
   ]
  },
  {
   "cell_type": "markdown",
   "id": "considered-savings",
   "metadata": {},
   "source": [
    "Given the id of a document, meaning the index it is located in an array, returns the text found in that particular document."
   ]
  },
  {
   "cell_type": "code",
   "execution_count": 11,
   "id": "novel-stadium",
   "metadata": {},
   "outputs": [],
   "source": [
    "def print_doc(id):\n",
    "    text = read_file(file_dataset[id][0])\n",
    "    print(text)"
   ]
  },
  {
   "cell_type": "markdown",
   "id": "impossible-replica",
   "metadata": {},
   "source": [
    "Given a dictionary, returns a matrix"
   ]
  },
  {
   "cell_type": "code",
   "execution_count": 49,
   "id": "helpful-operator",
   "metadata": {},
   "outputs": [],
   "source": [
    "def get_Matrix(dictionary):\n",
    "\n",
    "    data = list(dictionary.items())\n",
    "    matrix = np.array(data)\n",
    "    \n",
    "    return matrix"
   ]
  },
  {
   "cell_type": "markdown",
   "id": "instrumental-pizza",
   "metadata": {},
   "source": [
    "Prints out a matrix in an organised way"
   ]
  },
  {
   "cell_type": "code",
   "execution_count": 48,
   "id": "quantitative-anderson",
   "metadata": {},
   "outputs": [],
   "source": [
    "def print_Matrix(matrix):\n",
    "    print('\\n'.join([''.join(['{:15}'.format(item) for item in row]) \n",
    "      for row in matrix]))"
   ]
  },
  {
   "cell_type": "markdown",
   "id": "facial-freedom",
   "metadata": {},
   "source": [
    "### Calculating for TF-IDF\n",
    "\n",
    "Term Frequency-Inverse Document Frequency, or in short, TF-IDF is a technique to quantify a word in documents, we compute a weight to each word which signifies the importance of the word in the document and the dataset. This weight is then stored in a term by document matrix. The image below goes over the basic formulas of how the TF-IDF is worked out.\n",
    "\n",
    "![TFID Formula Explenation](https://miro.medium.com/max/538/1*dug-uXDMOD6H5JMnYNpgfQ.png)"
   ]
  },
  {
   "cell_type": "markdown",
   "id": "meaning-alignment",
   "metadata": {},
   "source": [
    "Calculating the Document Frequency. Returns a Dictionary of the number of documents in which each word can be found"
   ]
  },
  {
   "cell_type": "code",
   "execution_count": 14,
   "id": "curious-swimming",
   "metadata": {},
   "outputs": [],
   "source": [
    "def calculate_DF(dataset):\n",
    "    \n",
    "    dfDict = {}\n",
    "\n",
    "    for i in range(len(dataset)):\n",
    "        tokens = dataset[i]\n",
    "        for w in tokens:\n",
    "            try:\n",
    "                dfDict[w].add(i)\n",
    "            except:\n",
    "                dfDict[w] = {i}\n",
    "\n",
    "    for i in dfDict:\n",
    "        dfDict[i] = len(dfDict[i])\n",
    "\n",
    "    return dfDict"
   ]
  },
  {
   "cell_type": "markdown",
   "id": "joint-seafood",
   "metadata": {},
   "source": [
    "Calculate the Term Frequency. Meaning the the number of times a word appears in a document divded by the total number of words in the document. "
   ]
  },
  {
   "cell_type": "code",
   "execution_count": 15,
   "id": "suspended-reviewer",
   "metadata": {},
   "outputs": [],
   "source": [
    "def calculate_TF(dfDict):\n",
    "    tfDict = {}\n",
    "    doc_words = get_doc_words(dfDict)\n",
    "    doc_words_count = len(doc_words)\n",
    "    for word, count in dfDict.items():\n",
    "        tfDict[word] = count / float(doc_words_count)\n",
    "    return tfDict"
   ]
  },
  {
   "cell_type": "markdown",
   "id": "verbal-career",
   "metadata": {},
   "source": [
    "Calculate the Inverse Data Frequency. Meaning the log of the number of documents divided by the number of documents that contain a specific word.\n",
    "Although this function calculates the IDF, it was easier to not use this function when working out the TF-IDF."
   ]
  },
  {
   "cell_type": "code",
   "execution_count": 16,
   "id": "mature-nitrogen",
   "metadata": {},
   "outputs": [],
   "source": [
    "def calculate_IDF(dataset):\n",
    "    \n",
    "    #total documents\n",
    "    N = len(dataset)\n",
    "    \n",
    "    dfDict = calculate_DF(dataset)\n",
    "    \n",
    "    idfDict = {}\n",
    "    \n",
    "    for word, val in dfDict.items():\n",
    "        idfDict[word] = math.log(N / float(val))\n",
    "\n",
    "    return idfDict"
   ]
  },
  {
   "cell_type": "markdown",
   "id": "dedicated-steering",
   "metadata": {},
   "source": [
    "Returns a list of all the unique words in a dictionary"
   ]
  },
  {
   "cell_type": "code",
   "execution_count": 17,
   "id": "catholic-partnership",
   "metadata": {},
   "outputs": [],
   "source": [
    "def get_doc_words(dfDict):\n",
    "    doc_words = [x for x in dfDict]\n",
    "    return doc_words"
   ]
  },
  {
   "cell_type": "markdown",
   "id": "adequate-raleigh",
   "metadata": {},
   "source": [
    "Return a list of all the unique words from all of the files in the dataset"
   ]
  },
  {
   "cell_type": "code",
   "execution_count": 18,
   "id": "applicable-tampa",
   "metadata": {},
   "outputs": [],
   "source": [
    "def get_unique_words(dataset):\n",
    "    \n",
    "    unique_terms = []\n",
    "    \n",
    "    for f in dataset:\n",
    "        words = get_doc_words(f)\n",
    "        unique_terms.extend(words)\n",
    "    \n",
    "    unique_terms = set(unique_terms)\n",
    "    return unique_terms"
   ]
  },
  {
   "cell_type": "markdown",
   "id": "recent-crystal",
   "metadata": {},
   "source": [
    "Calculates the TF-IDF. This function ended up not being used when working out the term by document matrix, since it was simpler to use another method."
   ]
  },
  {
   "cell_type": "code",
   "execution_count": 19,
   "id": "proprietary-devil",
   "metadata": {},
   "outputs": [],
   "source": [
    "def calculate_TFIDF(dataset):\n",
    "    \n",
    "    \n",
    "    N = len(dataset)\n",
    "    df_dict = calculate_DF(dataset)\n",
    "    \n",
    "    tf_idf = {}\n",
    "    \n",
    "    for i in range(N):\n",
    "        \n",
    "        tokens = dataset[i]\n",
    "        counter = Counter(tokens)\n",
    "        \n",
    "        for token in np.unique(tokens):\n",
    "\n",
    "            tf = counter[token]/len(tokens)\n",
    "            df = df_dict[token]\n",
    "            idf = np.log(N/(df))\n",
    "            tf_idf[i, token] = tf*idf\n",
    "            #tf_idf[filenames[i], token] = tf*idf\n",
    "        \n",
    "    return tf_idf"
   ]
  },
  {
   "cell_type": "markdown",
   "id": "fitted-collapse",
   "metadata": {},
   "source": [
    "## Creating Dataset and calculating document weights"
   ]
  },
  {
   "cell_type": "markdown",
   "id": "surgical-assist",
   "metadata": {},
   "source": [
    "Creating a list of all the directories of the files in the dataset.\n",
    "\n",
    "* os.walk gives us the files in the directory\n",
    "* os.getcwd gives us the current directory and title. "
   ]
  },
  {
   "cell_type": "code",
   "execution_count": 20,
   "id": "great-manor",
   "metadata": {},
   "outputs": [],
   "source": [
    "filenames = []\n",
    "for (root,dirs,files) in os.walk(str(os.getcwd())+'/docs-raw-texts/'):\n",
    "    filenames.extend(files)\n",
    "    path = root\n",
    "    break"
   ]
  },
  {
   "cell_type": "markdown",
   "id": "surprising-washington",
   "metadata": {},
   "source": [
    "Creating a list of all the titles of the articles and their directory"
   ]
  },
  {
   "cell_type": "code",
   "execution_count": 21,
   "id": "quality-afghanistan",
   "metadata": {},
   "outputs": [],
   "source": [
    "file_dataset = []\n",
    "for f in filenames:\n",
    "    temp = []\n",
    "    \n",
    "    file = open(path+f, 'r', encoding=\"utf8\")\n",
    "    text = file.read().strip()\n",
    "    file.close()\n",
    "\n",
    "    bs_content = bs(text, \"xml\")\n",
    "\n",
    "    #returns \"bs4.element.Tag\" object\n",
    "    file_title = (bs_content.find(\"fileDesc\")).get(\"title\")\n",
    "    \n",
    "    temp.append(str(path + f))\n",
    "    temp.append(str(file_title))\n",
    "    \n",
    "    file_dataset.append(temp)"
   ]
  },
  {
   "cell_type": "markdown",
   "id": "successful-ballet",
   "metadata": {},
   "source": [
    "Creating a list conataining all pre-processed files. This is the dataset which we would work on."
   ]
  },
  {
   "cell_type": "code",
   "execution_count": 22,
   "id": "variable-stuff",
   "metadata": {},
   "outputs": [],
   "source": [
    "dataset = []\n",
    "\n",
    "for f in file_dataset:\n",
    "    data = preprocessing(f[0])\n",
    "    dataset.append(data)"
   ]
  },
  {
   "cell_type": "markdown",
   "id": "other-journalist",
   "metadata": {},
   "source": [
    "Building the term by document matrix with the TF-IDF weight for each term within each document. This is stored in a dictionary called \"tf_idf\". The decision to use a dictionary was made because they give the ability to set a key pair and a corresponding value. This allows us to store the tf-idf values in a more organised and straightforward way using the file and word as the key pair, with the value obviosly being the corresponding tfidf value.\n",
    "\n",
    "A Counter is a subclass of dictionary used for counting hashable objects. Essencially, this means that elements are stored as dictionary keys and their counts are stored as dictionary values."
   ]
  },
  {
   "cell_type": "code",
   "execution_count": 23,
   "id": "soviet-chambers",
   "metadata": {},
   "outputs": [],
   "source": [
    "unique_words = list(get_unique_words(dataset))\n",
    "\n",
    "N = len(dataset)\n",
    "df_dict = calculate_DF(dataset)\n",
    "    \n",
    "tf_idf = {}\n",
    "    \n",
    "for i in range(N):\n",
    "        \n",
    "    tokens = dataset[i]\n",
    "    counter = Counter(tokens)\n",
    "        \n",
    "    for token in np.unique(tokens):\n",
    "\n",
    "        tf = counter[token]/len(tokens)\n",
    "        df = df_dict[token]\n",
    "        idf = np.log(N/(df))\n",
    "        tf_idf[i, token] = tf*idf"
   ]
  },
  {
   "cell_type": "markdown",
   "id": "rapid-admission",
   "metadata": {},
   "source": [
    "## TF-IDF Cosine Similarity Ranking\n",
    "\n",
    "Observe the graph below, the left vector is the query and the right vector is the document. Imagine the vectors of all the documents are plotted, by considering the angle between those two vectors, the document with the smallest angle (cosine distance) would be the document which matches mostly with the query.\n",
    "\n",
    "![Cosine Similarity Explenation](https://www.oreilly.com/library/view/statistics-for-machine/9781788295758/assets/2b4a7a82-ad4c-4b2a-b808-e423a334de6f.png)"
   ]
  },
  {
   "cell_type": "markdown",
   "id": "exact-jacob",
   "metadata": {},
   "source": [
    "Getting the document frequency for a particular word"
   ]
  },
  {
   "cell_type": "code",
   "execution_count": 24,
   "id": "incorporated-updating",
   "metadata": {},
   "outputs": [],
   "source": [
    "def doc_freq(word):\n",
    "    c = 0\n",
    "    try:\n",
    "        c = dfDict[word]\n",
    "    except:\n",
    "        pass\n",
    "    return c"
   ]
  },
  {
   "cell_type": "markdown",
   "id": "asian-duncan",
   "metadata": {},
   "source": [
    "Creating a Vectors from the tf_idf dictionary, using the current index of the word as the index of the vector.\n",
    "By converting all the data to vectors, we would be able to calculate the cosine similarity."
   ]
  },
  {
   "cell_type": "code",
   "execution_count": 25,
   "id": "antique-sustainability",
   "metadata": {},
   "outputs": [],
   "source": [
    "D = np.zeros((N, len(unique_words)))\n",
    "for i in tf_idf:\n",
    "    try:\n",
    "        ind = unique_words.index(i[1])\n",
    "        D[i[0]][ind] = tf_idf[i]\n",
    "    except:\n",
    "        pass"
   ]
  },
  {
   "cell_type": "code",
   "execution_count": 26,
   "id": "stable-verification",
   "metadata": {},
   "outputs": [],
   "source": [
    "def gen_vector(tokens):\n",
    "\n",
    "    Q = np.zeros((len(unique_words)))\n",
    "    \n",
    "    counter = Counter(tokens)\n",
    "    words_count = len(tokens)\n",
    "\n",
    "    query_weights = {}\n",
    "    \n",
    "    for token in np.unique(tokens):\n",
    "        \n",
    "        tf = counter[token]/words_count\n",
    "        df = doc_freq(token)\n",
    "        idf = math.log((N+1)/(df+1))\n",
    "\n",
    "        try:\n",
    "            ind = unique_words.index(token)\n",
    "            Q[ind] = tf*idf\n",
    "        except:\n",
    "            pass\n",
    "    return Q"
   ]
  },
  {
   "attachments": {
    "870ac3bd-3b8b-4ed7-a9ef-5022fdd7dd75.png": {
     "image/png": "[encoded data removed]"
    }
   },
   "cell_type": "markdown",
   "id": "interracial-noise",
   "metadata": {},
   "source": [
    "Cosine Similarity is worked out using the below formula. 'A' being the query vector, and 'B' being the document vector\n",
    "\n",
    "![image.png](attachment:870ac3bd-3b8b-4ed7-a9ef-5022fdd7dd75.png)"
   ]
  },
  {
   "cell_type": "code",
   "execution_count": 27,
   "id": "dangerous-error",
   "metadata": {},
   "outputs": [],
   "source": [
    "def cosine_sim(a, b):\n",
    "    cos_sim = np.dot(a, b)/(np.linalg.norm(a)*np.linalg.norm(b))\n",
    "    return cos_sim"
   ]
  },
  {
   "cell_type": "code",
   "execution_count": 47,
   "id": "stable-laugh",
   "metadata": {},
   "outputs": [],
   "source": [
    "def cosine_similarity(queryFile):\n",
    "    files = len(file_dataset)\n",
    "\n",
    "    #pre-processing the query\n",
    "    query = print_query(queryFile)\n",
    "    tokens = preprocessing(queryFile)\n",
    "    \n",
    "    print(\"Query:\", query)\n",
    "    \n",
    "    d_cosines = []\n",
    "    \n",
    "    query_vector = gen_vector(tokens)\n",
    "    \n",
    "    for d in D:\n",
    "        d_cosines.append(cosine_sim(query_vector, d))\n",
    "        \n",
    "    #the sorted list of files by cosine similarty\n",
    "    coSim = np.array(d_cosines).argsort()[-files:][::-1]\n",
    "        \n",
    "    return list(coSim)"
   ]
  },
  {
   "cell_type": "code",
   "execution_count": 45,
   "id": "advance-retro",
   "metadata": {},
   "outputs": [
    {
     "name": "stdout",
     "output_type": "stream",
     "text": [
      "Query: Fabrication of music instruments\n",
      "\n",
      "Ranked List of Documents:\n",
      "[15, 253, 84, 185, 208, 258, 152, 184, 214, 314, 169, 7, 59, 98, 3, 162, 5, 242, 161, 153, 99, 93, 178, 295, 88, 144, 38, 58, 311, 328, 310, 298, 81, 27, 171, 64, 272, 129, 280, 254, 316, 73, 228, 211, 76, 151, 283, 274, 264, 31, 194, 20, 163, 51, 315, 23, 135, 37, 233, 115, 122, 183, 104, 100, 95, 106, 103, 107, 97, 108, 102, 101, 94, 92, 110, 109, 96, 105, 121, 111, 130, 145, 143, 142, 141, 140, 139, 138, 137, 136, 134, 133, 132, 131, 128, 112, 127, 126, 125, 124, 123, 90, 120, 119, 118, 117, 116, 114, 113, 91, 330, 89, 87, 25, 26, 28, 29, 30, 32, 33, 34, 35, 36, 39, 40, 41, 42, 43, 24, 22, 21, 10, 1, 2, 4, 6, 8, 9, 11, 19, 12, 13, 14, 16, 17, 18, 44, 45, 46, 77, 70, 71, 72, 147, 74, 75, 78, 68, 79, 80, 82, 83, 85, 86, 69, 67, 47, 55, 48, 49, 50, 52, 53, 54, 56, 66, 57, 60, 61, 62, 63, 65, 146, 165, 148, 285, 265, 266, 267, 268, 269, 270, 271, 273, 275, 276, 277, 278, 279, 281, 282, 263, 262, 261, 249, 243, 244, 245, 246, 247, 248, 250, 260, 251, 252, 255, 256, 257, 259, 284, 286, 240, 287, 308, 309, 312, 313, 317, 318, 319, 320, 321, 322, 323, 324, 325, 326, 327, 307, 306, 305, 294, 288, 289, 290, 291, 292, 293, 296, 304, 297, 299, 300, 301, 302, 303, 241, 239, 149, 197, 176, 177, 179, 180, 181, 182, 186, 187, 188, 189, 190, 191, 192, 193, 195, 175, 174, 173, 159, 150, 154, 155, 156, 157, 158, 160, 172, 164, 329, 166, 167, 168, 170, 196, 198, 238, 199, 221, 222, 223, 224, 225, 226, 227, 229, 230, 231, 232, 234, 235, 236, 237, 220, 219, 218, 206, 200, 201, 202, 203, 204, 205, 207, 217, 209, 210, 212, 213, 215, 216, 0]\n",
      "\n",
      "Best Match:\n",
      "<raw>Adolphe Sax and the Saxophone.\n",
      "\n",
      "Adolphe Sax (1814-1894)  .  On November 6, 1814, Belgian musical instrument designer and musician Antoine-Joseph “Adolphe” Sax was born. Besides playing flute and clarinet, he is well known for having invented the saxophone. Sax became something of a footnote in history after his creation was almost forgotten after his death, until it was revived by jazz musicians who barely remembered his name.[2] Back in the time when I was a student, I remember one fellow student who ‘polluted’ the air of the student’s dorm for two long semesters with his (futile) practicing on that very instrument invented by Gustave Sax. I can tell you that it is really a pain to listen to a beginner’s trials on the Saxophone. Antoine-Joseph Sax was born in Dinant, Belgium, as the oldest of 11 children to Charles-Joseph Sax, an instrument designer, who made several changes to the design of the horn. Sax became his father’s apprentice and began to make his own instruments at an early age, entering two of his flutes and a clarinet into a competition at the age of 15. He subsequently studied those two instruments at the Royal Conservatory of Brussels. The Saxtuba, one of Adolphe Sax‘s instruments (1867) In 1835 he perfected a bass clarinet superior to any that had preceded it. Before long, Sax concluded that Belgium was too small for his ambitions. At the Belgian Exhibition (an industrial fair) in 1840 he presented nine inventions, among them an organ, a piano tuning process and a sound-reflecting screen. The judges felt that Sax was too young to receive the gold medal, and instead awarded him the vermeil (gilded silver). Sax came to Paris in 1842 and succeeded in interesting many eminent men, including composer Hector Berlioz. He set up a workshop in the Rue St Georges and studied acoustics, discovering a new principle in the manufacture of wind instruments, viz. That it is the proportions given to a column of air vibrating in a sonorous tube, and these alone, that determine the character of the timbre produced: the material of the walls of the tube is not of the slightest importance so long as it offers enough resistance.[1]Together with his genius for mechanical invention Sax seems to have combined a knowledge of self-advertisement, and his name was often prefixed to successful types of instrument for the invention of which he was not primarily responsible. Sax also developed the saxotromba family, valved brass instruments with narrower bore than the saxhorns, in 1845, though they survived only briefly. Saxhorn instruments spread rapidly throughout the world. The saxhorn valves were accepted as state of the art and are largely unchanged today. On June 22, 1846 he registered the saxophone and won his gold medal at the Paris Industrial Exposition in 1849. By the ned of the year Sax had designed, on paper, a full range of saxophones (from sopranino to subcontrabass). Although they never became standard orchestral instruments, the saxophones made his reputation and secured him a job, teaching at the Paris Conservatoire in 1857. “Its principal merit in my view is the varied beauty of its accent, sometimes serious, sometimes calm, sometimes impassioned, dreamy or melancholic, or vague, like the weakened echo of an echo, like the indistinct plaintiff moans of the breeze in the woods and, even better, like the mysterious vibrations of a bell, long after it has been struck” (Hector Berlioz about the Saxophone) Sax’s workshop sold some 20,000 instruments between 1843 and 1860, but he was not a talented money manager, and sales were not enough to keep him solvent. He filed for bankruptcy three times, in 1852, 1873, and 1877, and he was saved from a fourth debacle only by the intervention of another of his admirers, Emperor Napoleon III. He also effected various improvements in piston instruments, of which the most important was the substitution of a single ascending piston for a number of descending ones. Sax suffered from lip cancer between 1853 and 1858 but made a full recovery. In 1870 Sax’s position at the Paris Conservatory was terminated in the aftermath of the Franco-Prussian War, and he lived his final years in straitened circumstances, kept out of poverty only by a small pension arranged for him by an admirer. He died in 1894 in Paris and was interred in the Cimetière de Montmartre. At yovisto, you can learn more about the saxophone in the lecture of Dr. Amy Muchnick on woodwind instruments, entitled “The Instrument Families 2“.</raw>\n"
     ]
    }
   ],
   "source": [
    "query = \"queries-raw-texts/wes2015.q01.naf\"\n",
    "Q = cosine_similarity(query)\n",
    "print(\"\\nRanked List of Documents:\")\n",
    "print(Q)\n",
    "print(\"\\nBest Match:\")\n",
    "print_doc(Q[0])"
   ]
  }
 ],
 "metadata": {
  "kernelspec": {
   "display_name": "Python 3",
   "language": "python",
   "name": "python3"
  },
  "language_info": {
   "codemirror_mode": {
    "name": "ipython",
    "version": 3
   },
   "file_extension": ".py",
   "mimetype": "text/x-python",
   "name": "python",
   "nbconvert_exporter": "python",
   "pygments_lexer": "ipython3",
   "version": "3.8.2"
  }
 },
 "nbformat": 4,
 "nbformat_minor": 5
}
