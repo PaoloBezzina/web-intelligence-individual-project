{
 "cells": [
  {
   "cell_type": "code",
   "execution_count": 1,
   "id": "prepared-equity",
   "metadata": {},
   "outputs": [],
   "source": [
    "import csv\n",
    "import re\n",
    "import collections\n",
    "import operator\n",
    "from collections import Counter\n",
    "import numpy as np\n",
    "import networkx as nx\n",
    "import matplotlib.pyplot as plt"
   ]
  },
  {
   "cell_type": "code",
   "execution_count": 2,
   "id": "modified-state",
   "metadata": {},
   "outputs": [],
   "source": [
    "class tweet:\n",
    "  def __init__(self, t):\n",
    "    self.timestamp = t[0]\n",
    "    self.author = t[1]\n",
    "    self.content = t[2]"
   ]
  },
  {
   "cell_type": "code",
   "execution_count": 3,
   "id": "isolated-wilson",
   "metadata": {},
   "outputs": [],
   "source": [
    "with open(\"twitter.tsv\", encoding=\"utf8\") as fd:\n",
    "    \n",
    "    tweets = []\n",
    "    rd = csv.reader(fd, delimiter=\"\\t\", quotechar='\"')\n",
    "    counter = 0\n",
    "    for row in rd:\n",
    "        tweets.append(tweet(row))\n",
    "        if (counter >= 30000):\n",
    "            break\n",
    "        counter +=1"
   ]
  },
  {
   "cell_type": "code",
   "execution_count": 4,
   "id": "cordless-dispute",
   "metadata": {},
   "outputs": [],
   "source": [
    "edges = {}\n",
    "\n",
    "for t in tweets:\n",
    "    if \"@\" in t.content:\n",
    "        mentioned = re.findall(\"@(\\w+)\",t.content)\n",
    "        for m in mentioned:\n",
    "            key = tuple([t.author, m])\n",
    "            if key in edges.keys():\n",
    "                edges[key] += 1\n",
    "            else:\n",
    "                edges[key] = 1"
   ]
  },
  {
   "cell_type": "code",
   "execution_count": 5,
   "id": "final-miniature",
   "metadata": {},
   "outputs": [],
   "source": [
    "#print(edges)\n",
    "\n",
    "G = nx.DiGraph()\n",
    "\n",
    "for k, v in edges:\n",
    "    G.add_edge(k, v, weight=edges[(k,v)])\n",
    "    \n",
    "# Draw Graph\n",
    "#weights = [G[u][v]['weight'] for u,v in edges]\n",
    "#nx.draw(G, with_labels=True, node_size=60,font_size=10, width=weights)\n",
    "#plt.show()"
   ]
  },
  {
   "cell_type": "markdown",
   "id": "welsh-bottom",
   "metadata": {},
   "source": [
    "Reterns largest weakly connected subgraph    "
   ]
  },
  {
   "cell_type": "code",
   "execution_count": 6,
   "id": "ordinary-arnold",
   "metadata": {},
   "outputs": [],
   "source": [
    "largest_cc = max(nx.weakly_connected_components(G), key=len)\n",
    "#print(largest_cc)\n",
    "\n",
    "SG = G.subgraph(largest_cc)\n",
    "#nx.draw(SG, with_labels=True, node_size=60,font_size=10)\n",
    "#plt.show()"
   ]
  },
  {
   "cell_type": "markdown",
   "id": "bottom-norwegian",
   "metadata": {},
   "source": [
    "#### Challenges that you might have encountered when parsing and cleaning the data and when creating the graph, and how you solved them. Discuss as well any decisions that you might have made."
   ]
  },
  {
   "cell_type": "markdown",
   "id": "difficult-thomas",
   "metadata": {},
   "source": [
    "## Statistics for the graph"
   ]
  },
  {
   "cell_type": "markdown",
   "id": "interpreted-lemon",
   "metadata": {},
   "source": [
    "#### Number Of Nodes\n",
    "Getting the number of nodes in the graph"
   ]
  },
  {
   "cell_type": "code",
   "execution_count": 7,
   "id": "republican-insert",
   "metadata": {},
   "outputs": [],
   "source": [
    "numberOfNodes = G.number_of_nodes()"
   ]
  },
  {
   "cell_type": "markdown",
   "id": "racial-ebony",
   "metadata": {},
   "source": [
    "#### Number Of Edges\n",
    "Getting the number of edges in the graph"
   ]
  },
  {
   "cell_type": "code",
   "execution_count": 8,
   "id": "bizarre-silly",
   "metadata": {},
   "outputs": [],
   "source": [
    "numberOfEdges = G.number_of_edges()"
   ]
  },
  {
   "cell_type": "markdown",
   "id": "intellectual-surgery",
   "metadata": {},
   "source": [
    "#### In-Degree"
   ]
  },
  {
   "cell_type": "code",
   "execution_count": 9,
   "id": "genuine-career",
   "metadata": {},
   "outputs": [],
   "source": [
    "inDegree = G.in_degree()"
   ]
  },
  {
   "cell_type": "markdown",
   "id": "thousand-argument",
   "metadata": {},
   "source": [
    "#### Out-Degree"
   ]
  },
  {
   "cell_type": "code",
   "execution_count": 10,
   "id": "comparable-letters",
   "metadata": {},
   "outputs": [],
   "source": [
    "outDegree = G.out_degree()"
   ]
  },
  {
   "cell_type": "markdown",
   "id": "dietary-airfare",
   "metadata": {},
   "source": [
    "#### Degree Distribution"
   ]
  },
  {
   "cell_type": "markdown",
   "id": "joint-recorder",
   "metadata": {},
   "source": [
    "##### Histogram"
   ]
  },
  {
   "cell_type": "code",
   "execution_count": 11,
   "id": "textile-entrance",
   "metadata": {},
   "outputs": [
    {
     "data": {
      "image/png": "[encoded data removed]",
      "text/plain": [
       "<Figure size 432x288 with 1 Axes>"
      ]
     },
     "metadata": {
      "needs_background": "light"
     },
     "output_type": "display_data"
    }
   ],
   "source": [
    "plt.title(\"Degree Histogram\")\n",
    "plt.xlabel(\"Count\")\n",
    "plt.ylabel(\"Degree\")\n",
    "\n",
    "degrees = [G.degree(n) for n in G.nodes()]\n",
    "\n",
    "plt.hist(degrees,log='true')\n",
    "plt.show()"
   ]
  },
  {
   "cell_type": "markdown",
   "id": "olympic-alexandria",
   "metadata": {},
   "source": [
    "##### Scatter Plot"
   ]
  },
  {
   "cell_type": "code",
   "execution_count": 12,
   "id": "fifteen-malta",
   "metadata": {},
   "outputs": [
    {
     "data": {
      "image/png": "[encoded data removed]",
      "text/plain": [
       "<Figure size 432x288 with 1 Axes>"
      ]
     },
     "metadata": {
      "needs_background": "light"
     },
     "output_type": "display_data"
    }
   ],
   "source": [
    "plt.title(\"Degree Scatter\")\n",
    "plt.xlabel(\"Rank\")\n",
    "plt.ylabel(\"Degree\")\n",
    "\n",
    "degree=nx.degree_histogram(G)\n",
    "degree.sort(reverse=True)\n",
    "#Convert frequency to frequency and use list connotation\n",
    "y=[z/float(sum(degree))for z in degree]\n",
    "\n",
    "#Generate X axis sequence, from 1 to maximum degree\n",
    "x=range(len(degree))\n",
    "plt.scatter(x,y,s=1,color=(1,0,0))\n",
    "\n",
    "plt.show()"
   ]
  },
  {
   "cell_type": "markdown",
   "id": "organized-bulletin",
   "metadata": {},
   "source": [
    "#### Average Path Length"
   ]
  },
  {
   "cell_type": "code",
   "execution_count": 13,
   "id": "bright-amateur",
   "metadata": {},
   "outputs": [],
   "source": [
    "averagePathLength = nx.average_shortest_path_length(SG)"
   ]
  },
  {
   "cell_type": "markdown",
   "id": "independent-thinking",
   "metadata": {},
   "source": [
    "#### Global Clustering Coeefficient"
   ]
  },
  {
   "cell_type": "code",
   "execution_count": 14,
   "id": "ranking-snowboard",
   "metadata": {},
   "outputs": [],
   "source": [
    "#The average clustering coefficient for the graph G\n",
    "clusteringCoeefficient = nx.average_clustering(G)\n",
    "\n",
    "#Compute graph transitivity, the fraction of all possible triangles present in G.\n",
    "transitivity = nx.transitivity(G)"
   ]
  },
  {
   "cell_type": "markdown",
   "id": "collect-persian",
   "metadata": {},
   "source": [
    "### Printing Statistics"
   ]
  },
  {
   "cell_type": "raw",
   "id": "endangered-questionnaire",
   "metadata": {},
   "source": [
    "print(\"Number Of Nodes: \", numberOfNodes, \"\\n\")\n",
    "print(\"Number Of Edges: \", numberOfEdges, \"\\n\")\n",
    "print(\"Average Shortest Path Length (for largest connected graph): \", averagePathLength, \"\\n\")\n",
    "print(\"Clustering Coefficient: \", clusteringCoeefficient, \"\\n\")\n",
    "print(\"Transitivity: \", transitivity, \"\\n\")\n",
    "print(\"In Degree: \", inDegree, \"\\n\")\n",
    "print(\"Out Degree: \", outDegree, \"\\n\")"
   ]
  },
  {
   "cell_type": "markdown",
   "id": "dependent-botswana",
   "metadata": {},
   "source": [
    "## Determining the top 10 users"
   ]
  },
  {
   "cell_type": "code",
   "execution_count": 15,
   "id": "continental-diameter",
   "metadata": {},
   "outputs": [],
   "source": [
    "def printDict(d):\n",
    "    for key in d:\n",
    "        print(key, '\\t:\\t', d[key])"
   ]
  },
  {
   "cell_type": "code",
   "execution_count": 16,
   "id": "favorite-railway",
   "metadata": {},
   "outputs": [],
   "source": [
    "def printTopN(d, n):\n",
    "    counter = 1\n",
    "    for key in d:\n",
    "        print(key, '\\t:\\t', d[key])\n",
    "        if (counter >= n):\n",
    "            break\n",
    "        counter +=1"
   ]
  },
  {
   "cell_type": "code",
   "execution_count": 17,
   "id": "rental-nickname",
   "metadata": {},
   "outputs": [],
   "source": [
    "def sortDictDesc(d):\n",
    "    sorted_d = dict( sorted(d.items(), key=operator.itemgetter(1),reverse=True))\n",
    "    return sorted_d"
   ]
  },
  {
   "cell_type": "markdown",
   "id": "virgin-newman",
   "metadata": {},
   "source": [
    "The degree centrality for a node v is the fraction of nodes it is connected to."
   ]
  },
  {
   "cell_type": "code",
   "execution_count": 18,
   "id": "thousand-timothy",
   "metadata": {},
   "outputs": [],
   "source": [
    "degreeCentrality = nx.degree_centrality(G)\n",
    "degreeCentrality = sortDictDesc(degreeCentrality)"
   ]
  },
  {
   "cell_type": "markdown",
   "id": "former-titanium",
   "metadata": {},
   "source": [
    "Closeness centrality of a node u is the reciprocal of the sum of the shortest path distances from u to all n-1 other nodes."
   ]
  },
  {
   "cell_type": "code",
   "execution_count": 19,
   "id": "communist-preference",
   "metadata": {},
   "outputs": [],
   "source": [
    "closenessCentrality = nx.closeness_centrality(G)\n",
    "closenessCentrality = sortDictDesc(closenessCentrality)"
   ]
  },
  {
   "cell_type": "markdown",
   "id": "vital-handbook",
   "metadata": {},
   "source": [
    "Betweenness centrality of a node v is the sum of the fraction of all-pairs shortest paths that pass through v"
   ]
  },
  {
   "cell_type": "code",
   "execution_count": 20,
   "id": "ready-coupon",
   "metadata": {},
   "outputs": [],
   "source": [
    "betweennessCentrality = nx.betweenness_centrality(G)\n",
    "betweennessCentrality = sortDictDesc(betweennessCentrality)"
   ]
  },
  {
   "cell_type": "code",
   "execution_count": 21,
   "id": "empirical-matthew",
   "metadata": {},
   "outputs": [
    {
     "name": "stdout",
     "output_type": "stream",
     "text": [
      "DegreeCentrality\n",
      "\n",
      "ryanbarr \t:\t 0.08879662492466349\n",
      "squarespace \t:\t 0.03656331614544967\n",
      "patrickaltoft \t:\t 0.010178798633898077\n",
      "evansrobert \t:\t 0.010178798633898077\n",
      "tweetmeme \t:\t 0.00857161990222996\n",
      "tinteract \t:\t 0.008035893658340587\n",
      "iphoneincanada \t:\t 0.0062278175852139555\n",
      "WeekinRewind \t:\t 0.005692091341324583\n",
      "TomTom_ \t:\t 0.005692091341324583\n",
      "russelsview \t:\t 0.005625125560838411\n",
      "\n",
      "\n",
      "Closeness Centrality\n",
      "\n",
      "ryanbarr \t:\t 0.0888037679412487\n",
      "squarespace \t:\t 0.03215340820064248\n",
      "xmyaimistrue \t:\t 0.018673773745875887\n",
      "Fulcan \t:\t 0.018550859587249884\n",
      "patrickaltoft \t:\t 0.010179233476628509\n",
      "tweetmeme \t:\t 0.008429991125109781\n",
      "tinteract \t:\t 0.008048771693049466\n",
      "Twitterrific \t:\t 0.007762150614206872\n",
      "mashable \t:\t 0.005902137013450608\n",
      "iphoneincanada \t:\t 0.005837301349536703\n",
      "\n",
      "\n",
      "Betweenness Centrality\n",
      "\n",
      "theiphoneblog \t:\t 9.328209443559929e-06\n",
      "iphoneincanada \t:\t 9.27663520865563e-06\n",
      "reneritchie \t:\t 7.2338470348375795e-06\n",
      "squarespace \t:\t 5.552078505349612e-06\n",
      "trackle \t:\t 4.901794673947598e-06\n",
      "talosman \t:\t 1.659344949094795e-06\n",
      "pimpyouriphone \t:\t 1.5180763926178058e-06\n",
      "freeiphoneapps \t:\t 1.4306244290844315e-06\n",
      "ram8727 \t:\t 1.429876976404659e-06\n",
      "teddfox \t:\t 1.1839650447595294e-06\n"
     ]
    }
   ],
   "source": [
    "print(\"DegreeCentrality\\n\")\n",
    "printTopN(degreeCentrality, 10)\n",
    "print(\"\\n\\nCloseness Centrality\\n\")\n",
    "printTopN(closenessCentrality, 10)\n",
    "print(\"\\n\\nBetweenness Centrality\\n\")\n",
    "printTopN(betweennessCentrality, 10)"
   ]
  }
 ],
 "metadata": {
  "kernelspec": {
   "display_name": "Python 3",
   "language": "python",
   "name": "python3"
  },
  "language_info": {
   "codemirror_mode": {
    "name": "ipython",
    "version": 3
   },
   "file_extension": ".py",
   "mimetype": "text/x-python",
   "name": "python",
   "nbconvert_exporter": "python",
   "pygments_lexer": "ipython3",
   "version": "3.8.2"
  }
 },
 "nbformat": 4,
 "nbformat_minor": 5
}
