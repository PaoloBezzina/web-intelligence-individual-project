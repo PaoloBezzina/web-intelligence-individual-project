{
 "cells": [
  {
   "cell_type": "code",
   "execution_count": 1,
   "id": "gorgeous-waste",
   "metadata": {},
   "outputs": [],
   "source": [
    "import csv\n",
    "import re\n",
    "import collections\n",
    "import operator\n",
    "from collections import Counter\n",
    "import numpy as np\n",
    "import networkx as nx\n",
    "import matplotlib.pyplot as plt"
   ]
  },
  {
   "cell_type": "code",
   "execution_count": 2,
   "id": "cathedral-vehicle",
   "metadata": {},
   "outputs": [],
   "source": [
    "class tweet:\n",
    "  def __init__(self, t):\n",
    "    self.timestamp = t[0]\n",
    "    self.author = t[1]\n",
    "    self.content = t[2]"
   ]
  },
  {
   "cell_type": "code",
   "execution_count": 3,
   "id": "overall-manchester",
   "metadata": {},
   "outputs": [],
   "source": [
    "with open(\"twitter.tsv\", encoding=\"utf8\") as fd:\n",
    "    \n",
    "    tweets = []\n",
    "    rd = csv.reader(fd, delimiter=\"\\t\", quotechar='\"')\n",
    "    counter = 0\n",
    "    for row in rd:\n",
    "        tweets.append(tweet(row))\n",
    "        #if (counter >= 3000):\n",
    "            #break\n",
    "        #counter +=1"
   ]
  },
  {
   "cell_type": "code",
   "execution_count": 4,
   "id": "private-entertainment",
   "metadata": {},
   "outputs": [],
   "source": [
    "edges = {}\n",
    "\n",
    "for t in tweets:\n",
    "    if \"@\" in t.content:\n",
    "        mentioned = re.findall(\"@(\\w+)\",t.content)\n",
    "        for m in mentioned:\n",
    "            key = tuple([t.author, m])\n",
    "            if key in edges.keys():\n",
    "                edges[key] += 1\n",
    "            else:\n",
    "                edges[key] = 1"
   ]
  },
  {
   "cell_type": "code",
   "execution_count": 5,
   "id": "educational-operations",
   "metadata": {},
   "outputs": [],
   "source": [
    "#print(edges)\n",
    "\n",
    "G = nx.DiGraph()\n",
    "\n",
    "for k, v in edges:\n",
    "    G.add_edge(k, v, weight=edges[(k,v)])\n",
    "    \n",
    "# Draw Graph\n",
    "#weights = [G[u][v]['weight'] for u,v in edges]\n",
    "#nx.draw(G, with_labels=True, node_size=60,font_size=10, width=weights)\n",
    "#plt.show()"
   ]
  },
  {
   "cell_type": "markdown",
   "id": "racial-incentive",
   "metadata": {},
   "source": [
    "Reterns largest weakly connected subgraph    "
   ]
  },
  {
   "cell_type": "code",
   "execution_count": 6,
   "id": "early-papua",
   "metadata": {},
   "outputs": [],
   "source": [
    "largest_cc = max(nx.weakly_connected_components(G), key=len)\n",
    "#print(largest_cc)\n",
    "\n",
    "SG = G.subgraph(largest_cc)\n",
    "#nx.draw(SG, with_labels=True, node_size=60,font_size=10)\n",
    "#plt.show()"
   ]
  },
  {
   "cell_type": "markdown",
   "id": "naughty-agency",
   "metadata": {},
   "source": [
    "#### Challenges that you might have encountered when parsing and cleaning the data and when creating the graph, and how you solved them. Discuss as well any decisions that you might have made."
   ]
  },
  {
   "cell_type": "markdown",
   "id": "unnecessary-personal",
   "metadata": {},
   "source": [
    "## Statistics for the graph"
   ]
  },
  {
   "cell_type": "markdown",
   "id": "stainless-recipient",
   "metadata": {},
   "source": [
    "#### Number Of Nodes\n",
    "Getting the number of nodes in the graph"
   ]
  },
  {
   "cell_type": "code",
   "execution_count": 7,
   "id": "approximate-leone",
   "metadata": {},
   "outputs": [],
   "source": [
    "numberOfNodes = G.number_of_nodes()"
   ]
  },
  {
   "cell_type": "markdown",
   "id": "radical-chile",
   "metadata": {},
   "source": [
    "#### Number Of Edges\n",
    "Getting the number of edges in the graph"
   ]
  },
  {
   "cell_type": "code",
   "execution_count": 8,
   "id": "demographic-chemistry",
   "metadata": {},
   "outputs": [],
   "source": [
    "numberOfEdges = G.number_of_edges()"
   ]
  },
  {
   "cell_type": "markdown",
   "id": "continuing-yorkshire",
   "metadata": {},
   "source": [
    "#### In-Degree"
   ]
  },
  {
   "cell_type": "code",
   "execution_count": 9,
   "id": "elder-mason",
   "metadata": {},
   "outputs": [],
   "source": [
    "inDegree = G.in_degree()"
   ]
  },
  {
   "cell_type": "markdown",
   "id": "acting-customs",
   "metadata": {},
   "source": [
    "#### Out-Degree"
   ]
  },
  {
   "cell_type": "code",
   "execution_count": 10,
   "id": "exposed-deposit",
   "metadata": {},
   "outputs": [],
   "source": [
    "outDegree = G.out_degree()"
   ]
  },
  {
   "cell_type": "markdown",
   "id": "detailed-management",
   "metadata": {},
   "source": [
    "#### Degree Distribution"
   ]
  },
  {
   "cell_type": "markdown",
   "id": "middle-antarctica",
   "metadata": {},
   "source": [
    "##### Histogram"
   ]
  },
  {
   "cell_type": "code",
   "execution_count": 11,
   "id": "varying-mercury",
   "metadata": {},
   "outputs": [
    {
     "data": {
      "image/png": "[encoded data removed]",
      "text/plain": [
       "<Figure size 432x288 with 1 Axes>"
      ]
     },
     "metadata": {
      "needs_background": "light"
     },
     "output_type": "display_data"
    }
   ],
   "source": [
    "plt.title(\"Degree Histogram\")\n",
    "plt.xlabel(\"Count\")\n",
    "plt.ylabel(\"Degree\")\n",
    "\n",
    "degrees = [G.degree(n) for n in G.nodes()]\n",
    "\n",
    "plt.hist(degrees,log='true')\n",
    "plt.show()"
   ]
  },
  {
   "cell_type": "markdown",
   "id": "afraid-albania",
   "metadata": {},
   "source": [
    "##### Scatter Plot"
   ]
  },
  {
   "cell_type": "code",
   "execution_count": 12,
   "id": "detailed-collection",
   "metadata": {},
   "outputs": [
    {
     "data": {
      "image/png": "[encoded data removed]",
      "text/plain": [
       "<Figure size 432x288 with 1 Axes>"
      ]
     },
     "metadata": {
      "needs_background": "light"
     },
     "output_type": "display_data"
    }
   ],
   "source": [
    "plt.title(\"Degree Scatter\")\n",
    "plt.xlabel(\"Rank\")\n",
    "plt.ylabel(\"Degree\")\n",
    "\n",
    "degree=nx.degree_histogram(G)\n",
    "degree.sort(reverse=True)\n",
    "#Convert frequency to frequency and use list connotation\n",
    "y=[z/float(sum(degree))for z in degree]\n",
    "\n",
    "#Generate X axis sequence, from 1 to maximum degree\n",
    "x=range(len(degree))\n",
    "plt.scatter(x,y,s=1,color=(1,0,0))\n",
    "\n",
    "plt.show()"
   ]
  },
  {
   "cell_type": "markdown",
   "id": "supposed-florence",
   "metadata": {},
   "source": [
    "#### Average Path Length"
   ]
  },
  {
   "cell_type": "code",
   "execution_count": 13,
   "id": "considerable-algebra",
   "metadata": {},
   "outputs": [],
   "source": [
    "averagePathLength = nx.average_shortest_path_length(SG)"
   ]
  },
  {
   "cell_type": "markdown",
   "id": "designing-arlington",
   "metadata": {},
   "source": [
    "#### Global Clustering Coeefficient"
   ]
  },
  {
   "cell_type": "code",
   "execution_count": 14,
   "id": "breeding-relations",
   "metadata": {},
   "outputs": [],
   "source": [
    "#The average clustering coefficient for the graph G\n",
    "clusteringCoeefficient = nx.average_clustering(G)\n",
    "\n",
    "#Compute graph transitivity, the fraction of all possible triangles present in G.\n",
    "transitivity = nx.transitivity(G)"
   ]
  },
  {
   "cell_type": "markdown",
   "id": "functioning-glance",
   "metadata": {},
   "source": [
    "### Printing Statistics"
   ]
  },
  {
   "cell_type": "raw",
   "id": "charming-philip",
   "metadata": {},
   "source": [
    "print(\"Number Of Nodes: \", numberOfNodes, \"\\n\")\n",
    "print(\"Number Of Edges: \", numberOfEdges, \"\\n\")\n",
    "print(\"Average Shortest Path Length (for largest connected graph): \", averagePathLength, \"\\n\")\n",
    "print(\"Clustering Coefficient: \", clusteringCoeefficient, \"\\n\")\n",
    "print(\"Transitivity: \", transitivity, \"\\n\")\n",
    "print(\"In Degree: \", inDegree, \"\\n\")\n",
    "print(\"Out Degree: \", outDegree, \"\\n\")"
   ]
  },
  {
   "cell_type": "markdown",
   "id": "assigned-dealing",
   "metadata": {},
   "source": [
    "## Determining the Top 10 users"
   ]
  },
  {
   "cell_type": "code",
   "execution_count": 15,
   "id": "seven-large",
   "metadata": {},
   "outputs": [],
   "source": [
    "def printDict(d):\n",
    "    for key in d:\n",
    "        print(key, '\\t:\\t', d[key])"
   ]
  },
  {
   "cell_type": "code",
   "execution_count": 16,
   "id": "liberal-flash",
   "metadata": {},
   "outputs": [],
   "source": [
    "def printTopN(d, n):\n",
    "    counter = 1\n",
    "    for key in d:\n",
    "        print(key, '\\t:\\t', d[key])\n",
    "        if (counter >= n):\n",
    "            break\n",
    "        counter +=1"
   ]
  },
  {
   "cell_type": "code",
   "execution_count": 17,
   "id": "powered-conversation",
   "metadata": {},
   "outputs": [],
   "source": [
    "def sortDictDesc(d):\n",
    "    sorted_d = dict( sorted(d.items(), key=operator.itemgetter(1),reverse=True))\n",
    "    return sorted_d"
   ]
  },
  {
   "cell_type": "markdown",
   "id": "entertaining-subsection",
   "metadata": {},
   "source": [
    "The degree centrality for a node v is the fraction of nodes it is connected to."
   ]
  },
  {
   "cell_type": "code",
   "execution_count": 18,
   "id": "governing-transcript",
   "metadata": {},
   "outputs": [],
   "source": [
    "degreeCentrality = nx.degree_centrality(G)\n",
    "degreeCentrality = sortDictDesc(degreeCentrality)"
   ]
  },
  {
   "cell_type": "markdown",
   "id": "breathing-greenhouse",
   "metadata": {},
   "source": [
    "Closeness centrality of a node u is the reciprocal of the sum of the shortest path distances from u to all n-1 other nodes."
   ]
  },
  {
   "cell_type": "code",
   "execution_count": 19,
   "id": "better-statement",
   "metadata": {},
   "outputs": [],
   "source": [
    "closenessCentrality = nx.closeness_centrality(G)\n",
    "closenessCentrality = sortDictDesc(closenessCentrality)"
   ]
  },
  {
   "cell_type": "markdown",
   "id": "regulation-insulation",
   "metadata": {},
   "source": [
    "Betweenness centrality of a node v is the sum of the fraction of all-pairs shortest paths that pass through v"
   ]
  },
  {
   "cell_type": "code",
   "execution_count": 20,
   "id": "second-occasion",
   "metadata": {},
   "outputs": [],
   "source": [
    "betweennessCentrality = nx.betweenness_centrality(G)\n",
    "betweennessCentrality = sortDictDesc(betweennessCentrality)"
   ]
  },
  {
   "cell_type": "code",
   "execution_count": 21,
   "id": "spare-arrow",
   "metadata": {},
   "outputs": [
    {
     "name": "stdout",
     "output_type": "stream",
     "text": [
      "Degree Centrality\n",
      "\n",
      "theiphoneblog \t:\t 0.037637433659270976\n",
      "ryanbarr \t:\t 0.0270989522346751\n",
      "mashable \t:\t 0.019191289405252512\n",
      "squarespace \t:\t 0.015572012956401406\n",
      "scottbourne \t:\t 0.015419942517374049\n",
      "ScanCafe \t:\t 0.015404735473471312\n",
      "iphone_dev \t:\t 0.013245335239282837\n",
      "tweetmeme \t:\t 0.011876701288036619\n",
      "TweetDeck \t:\t 0.009397953131890692\n",
      "kevinrose \t:\t 0.00783162760990891\n",
      "\n",
      "\n",
      "Closeness Centrality\n",
      "\n",
      "theiphoneblog \t:\t 0.027427802451198077\n",
      "ryanbarr \t:\t 0.026914331574782308\n",
      "mashable \t:\t 0.02663036318100742\n",
      "iphone_dev \t:\t 0.02255799832103937\n",
      "reneritchie \t:\t 0.0208254544501898\n",
      "MuscleNerd \t:\t 0.020822118432203253\n",
      "chrispirillo \t:\t 0.020199392874692457\n",
      "twittelator \t:\t 0.019479052477141254\n",
      "palmsolo \t:\t 0.01925193466205196\n",
      "backlon \t:\t 0.01921324516522264\n",
      "\n",
      "\n",
      "Betweenness Centrality\n",
      "\n",
      "theiphoneblog \t:\t 0.0004253726048982866\n",
      "filjedi \t:\t 0.0002926259536491623\n",
      "msproductions \t:\t 0.00029029017378310397\n",
      "lemonkey \t:\t 0.0002066224788538912\n",
      "dreadpiratepj \t:\t 0.00019356789904008073\n",
      "serban \t:\t 0.00019314523704854261\n",
      "iphonespaz \t:\t 0.00019188912230257968\n",
      "webaddict \t:\t 0.0001876675900566202\n",
      "johnbiggs \t:\t 0.00018355324575507683\n",
      "dgshaw \t:\t 0.00018180979394719454\n"
     ]
    }
   ],
   "source": [
    "print(\"Degree Centrality\\n\")\n",
    "printTopN(degreeCentrality, 10)\n",
    "print(\"\\n\\nCloseness Centrality\\n\")\n",
    "printTopN(closenessCentrality, 10)\n",
    "print(\"\\n\\nBetweenness Centrality\\n\")\n",
    "printTopN(betweennessCentrality, 10)"
   ]
  },
  {
   "cell_type": "markdown",
   "id": "simplified-tutorial",
   "metadata": {},
   "source": [
    "## Visualise the Graph"
   ]
  },
  {
   "cell_type": "code",
   "execution_count": null,
   "id": "pressing-possible",
   "metadata": {},
   "outputs": [],
   "source": [
    "weights = [G[u][v]['weight'] for u,v in edges]\n",
    "\n",
    "node_sizes = []\n",
    "for n in closenessCentrality:\n",
    "    #print(closenessCentrality[n])\n",
    "    node_sizes.append(10000*closenessCentrality[n])\n",
    "\n",
    "nx.draw(G, node_size=node_sizes,font_size=10, width=weights) # with_labels=True\n",
    "plt.show()"
   ]
  }
 ],
 "metadata": {
  "kernelspec": {
   "display_name": "Python 3",
   "language": "python",
   "name": "python3"
  },
  "language_info": {
   "codemirror_mode": {
    "name": "ipython",
    "version": 3
   },
   "file_extension": ".py",
   "mimetype": "text/x-python",
   "name": "python",
   "nbconvert_exporter": "python",
   "pygments_lexer": "ipython3",
   "version": "3.8.2"
  }
 },
 "nbformat": 4,
 "nbformat_minor": 5
}
