{
 "cells": [
  {
   "cell_type": "markdown",
   "id": "twelve-status",
   "metadata": {},
   "source": [
    "## This is a heading"
   ]
  },
  {
   "cell_type": "code",
   "execution_count": 1,
   "id": "sharing-porter",
   "metadata": {},
   "outputs": [
    {
     "name": "stdout",
     "output_type": "stream",
     "text": [
      "This is a code test\n"
     ]
    }
   ],
   "source": [
    "print(\"This is a code test\")"
   ]
  },
  {
   "cell_type": "markdown",
   "id": "suffering-shuttle",
   "metadata": {},
   "source": [
    "Above please find a test code snippet"
   ]
  },
  {
   "cell_type": "code",
   "execution_count": 2,
   "id": "young-documentary",
   "metadata": {},
   "outputs": [
    {
     "name": "stdout",
     "output_type": "stream",
     "text": [
      "helloworld\n"
     ]
    }
   ],
   "source": [
    "testVar = \"Hello World\"\n",
    "print(\"helloworld\")"
   ]
  },
  {
   "cell_type": "markdown",
   "id": "sized-roulette",
   "metadata": {},
   "source": [
    "save"
   ]
  },
  {
   "cell_type": "code",
   "execution_count": 3,
   "id": "ready-forestry",
   "metadata": {},
   "outputs": [
    {
     "name": "stdout",
     "output_type": "stream",
     "text": [
      "Hello World\n"
     ]
    }
   ],
   "source": [
    "print(testVar)"
   ]
  },
  {
   "cell_type": "code",
   "execution_count": 4,
   "id": "strange-attribute",
   "metadata": {},
   "outputs": [
    {
     "data": {
      "text/plain": [
       "'Hello, Tim!'"
      ]
     },
     "execution_count": 4,
     "metadata": {},
     "output_type": "execute_result"
    }
   ],
   "source": [
    "def say_hello(recipient):\n",
    "    return 'Hello, {}!'.format(recipient)\n",
    "\n",
    "say_hello('Tim')"
   ]
  },
  {
   "cell_type": "code",
   "execution_count": 5,
   "id": "balanced-serial",
   "metadata": {},
   "outputs": [
    {
     "data": {
      "text/plain": [
       "'Hello, Paolo!'"
      ]
     },
     "execution_count": 5,
     "metadata": {},
     "output_type": "execute_result"
    }
   ],
   "source": [
    "import time\n",
    "time.sleep(3)\n",
    "say_hello(\"Paolo\")"
   ]
  },
  {
   "cell_type": "code",
   "execution_count": null,
   "id": "improving-certification",
   "metadata": {},
   "outputs": [],
   "source": []
  }
 ],
 "metadata": {
  "kernelspec": {
   "display_name": "Python 3",
   "language": "python",
   "name": "python3"
  },
  "language_info": {
   "codemirror_mode": {
    "name": "ipython",
    "version": 3
   },
   "file_extension": ".py",
   "mimetype": "text/x-python",
   "name": "python",
   "nbconvert_exporter": "python",
   "pygments_lexer": "ipython3",
   "version": "3.8.2"
  }
 },
 "nbformat": 4,
 "nbformat_minor": 5
}
