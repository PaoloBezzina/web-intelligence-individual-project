{
 "cells": [
  {
   "cell_type": "markdown",
   "id": "victorian-brave",
   "metadata": {},
   "source": [
    "# Task 2: Information Retrieval"
   ]
  },
  {
   "cell_type": "markdown",
   "id": "dominican-decline",
   "metadata": {},
   "source": [
    "## Document Indexing"
   ]
  },
  {
   "cell_type": "markdown",
   "id": "extraordinary-optimization",
   "metadata": {},
   "source": [
    "Importing all necessary libraries"
   ]
  },
  {
   "cell_type": "code",
   "execution_count": 1,
   "id": "lesser-finance",
   "metadata": {},
   "outputs": [],
   "source": [
    "import nltk\n",
    "from nltk.corpus import stopwords\n",
    "from nltk.stem import PorterStemmer \n",
    "from bs4 import BeautifulSoup as bs"
   ]
  },
  {
   "cell_type": "markdown",
   "id": "difficult-airplane",
   "metadata": {},
   "source": [
    "Reading contents of the XML file."
   ]
  },
  {
   "cell_type": "code",
   "execution_count": 2,
   "id": "proper-discount",
   "metadata": {},
   "outputs": [],
   "source": [
    "content = []\n",
    "with open(\"docs-raw-texts/wes2015.d021.naf\", \"r\") as file:\n",
    "    # Read each line in the file, readlines() returns a list of lines\n",
    "    content = file.readlines()\n",
    "    \n",
    "    # Combine the lines in the list into a string\n",
    "    content = \"\".join(content)\n",
    "    bs_content = bs(content, \"xml\")\n",
    "\n",
    "#returns \"bs4.element.Tag\" object\n",
    "result = bs_content.find(\"raw\")\n",
    "#print(result.prettify())"
   ]
  },
  {
   "cell_type": "markdown",
   "id": "prescription-engineer",
   "metadata": {},
   "source": [
    "Changing from a bs4.element.Tag object to a String. Then Tokenising the documents' contents."
   ]
  },
  {
   "cell_type": "code",
   "execution_count": 3,
   "id": "cooperative-shower",
   "metadata": {},
   "outputs": [
    {
     "name": "stdout",
     "output_type": "stream",
     "text": [
      "['Oskar', 'Barnack', 'â€', '“', 'the', 'Father', 'of', '35mm', 'Photography', '.', 'Oskar', 'Barnack', '(', '1879-1936', ')', '.', 'On', 'November', '1', ',', '1879', ',', 'German', 'optical', 'engineer', ',', 'precision', 'mechanic', ',', 'and', 'industrial', 'designer', 'Oskar', 'Barnack', 'was', 'born', '.', 'He', 'is', 'often', 'referred', 'to', 'as', 'the', 'father', 'of', '35', 'mm', 'photography', 'for', 'his', 'invention', 'of', 'the', 'first', 'miniature', 'commercially', 'successful', 'camera', ',', 'the', 'Leica', '.', 'In', 'the', 'age', 'of', 'digital', 'photography', ',', 'something', 'like', '35', 'mm', 'film', 'might', 'seem', 'like', 'some', 'forgotten', 'relict', '.', 'But', ',', 'it', 'really', 'was', 'a', 'revolution', 'that', 'brought', 'photography', 'too', 'the', 'masses', 'â€', '“', 'in', 'the', 'same', 'way', 'as', 'the', 'invention', 'of', 'theÂ', 'film', 'roll', 'and', 'its', 'application', 'in', 'the', 'famous', 'Kodak', 'box', 'camera', 'almost', '50', 'years', 'earlier', '.', 'Actually', ',', 'very', 'little', 'is', 'only', 'known', 'about', 'the', 'private', 'life', 'of', 'Oskar', 'Barnack', '.', 'Most', 'known', 'information', 'about', 'his', 'life', 'concerns', 'his', 'creation', '.', 'Born', 'in', 'Lynow', ',', 'Brandenburg', ',', 'a', 'hamlet', 'south', 'of', 'Berlin', ',', 'Â', 'Barnack', 'was', 'a', 'master', 'mechanic', 'and', 'inventor', 'working', 'for', 'the', 'Carl', 'Zeiss', 'company', ',', 'when', 'he', 'received', 'the', 'offer', 'to', 'join', 'the', 'Ernst', 'Leitz', 'Optische', 'Werke', 'in', 'Wetzlar', 'in', '1911', '.', 'There', ',', 'he', 'was', 'in', 'charge', 'of', 'microscope', 'research', 'for', 'Ernst', 'Leitz', 'at', 'Wetzlar', ',', 'Hessen', ',', 'Germany', ',', 'as', 'head', 'of', 'the', 'construction', 'department', '.', 'He', 'was', 'an', 'enthusiastic', 'photographer', ',', 'but', 'the', 'heavy', 'equipment', 'of', 'the', 'day', 'was', 'difficult', 'for', 'him', 'to', 'handle', 'due', 'to', 'his', 'poor', 'health', '.', 'Thus', ',', 'he', 'sought', 'to', 'reduce', 'the', 'size', 'and', 'weight', 'ofÂ', 'cameras', 'and', 'supporting', 'equipment', 'used', 'for', 'outdoor', 'photography', '.', 'As', 'early', 'as', '1905', ',', 'he', 'had', 'the', 'idea', 'of', 'reducing', 'the', 'format', 'of', 'negatives', 'and', 'then', 'enlarging', 'theÂ', 'photographs', 'after', 'they', 'had', 'been', 'exposed', ',', 'involving', 'a', 'small', 'camera', 'and', 'an', 'enlarger.In', '1912', ',', 'he', 'constructed', 'already', 'aÂ', '35', 'mm', 'movie', 'camera', '.', 'Between', '1913', 'and', '1914', 'he', 'developed', 'the', 'Ur-Leica', ',', 'a', 'prototype', 'camera', 'using', '35mm', 'motion', 'picture', 'film', '.', 'From', 'the', 'start', ',', 'the', 'film', 'was', 'transported', 'horizontally', 'and', 'not', 'vertically', ',', 'as', 'was', 'the', 'case', 'with', 'movie', 'cameras', '.', 'The', 'format', '24Ã—36mm', ',', 'a', 'format', 'weâ€™ve', 'all', 'been', 'accustomed', 'to', ',', 'was', 'obtained', 'by', 'doubling', 'the', 'normal', 'movie-image', '.', 'At', 'the', 'time', ',', 'most', 'cameras', 'were', 'equipped', 'with', 'glass', 'plates', 'or', 'roll', 'film', '.', 'While', 'cumbersome', ',', 'their', 'large', 'negatives', 'eliminated', 'the', 'need', 'for', 'enlargement', '.', 'But', 'lenses', 'and', 'films', 'had', 'reached', 'a', 'level', 'that', 'reduced', 'the', 'quality', 'of', 'getting', 'prints', 'through', 'enlarging', '.', '[', '2', ']', 'Instead', 'of', 'the', 'exposure', 'plates', 'used', 'in', 'pastÂ', 'Leitz', 'cameras', ',', 'the', 'Leica', 'used', 'a', 'standardized', 'film', 'strip', ',', 'adapted', 'from', '35', 'mm', 'Eastman', 'Kodak', 'roll-film', '.', 'Barnack', 'decided', 'that', 'the', '18', 'x', '24', 'mm', '(', '3:4', 'aspect', 'ratio', ')', 'standard', 'movie', 'frame', 'was', 'not', 'large', 'enough', 'for', 'good', 'still', 'photo', 'quality', 'with', 'the', 'films', 'of', 'the', 'day', 'and', 'doubled', 'the', 'frame', 'size', 'to', '24', 'x', '36', 'mm', '(', '2:3', 'aspect', 'ratio', ')', ',', 'with', 'the', 'image', 'horizontal', 'instead', 'of', 'vertical', '.', 'Another', 'Leitz', 'employee', ',', 'Max', 'Berek', ',', 'was', 'instrumental', 'in', 'developing', 'a', 'lens', 'for', 'this', 'camera', ',', 'as', 'he', 'developed', 'the', 'first', '50mm', 'f/3.5', 'lens', 'as', 'the', 'optimum', 'focal', 'length', 'for', 'the', '24', 'x', '36mm', 'format', '.', 'the', 'â€˜originalâ€™', 'Leica', 'from', '1914', 'His', '35', 'mm', 'design', 'helped', 'introduce', 'the', 'concept', 'of', 'exposing', 'a', 'small', 'area', 'of', 'film', 'to', 'create', 'a', 'negative', ',', 'then', 'enlarging', 'the', 'image', 'in', 'a', 'darkroom', '.', 'The', 'onset', 'of', 'World', 'War', 'IÂ', 'kept', 'the', 'first', 'Leica', 'from', 'being', 'manufactured', 'until', '1924', ',', 'and', 'it', 'was', 'not', 'introduced', 'to', 'the', 'public', 'until', '1925', ',', 'when', 'Leicaâ€™s', 'chief', ',', 'the', 'optician', 'Ernst', 'Leitz', ',', 'took', 'a', 'gamble', 'and', 'authorized', 'the', 'production', 'of', '1,000', 'cameras', '.', 'Despite', 'of', 'other', 'contemporary', 'successful', 'early', '35mm', 'camera', 'models', 'should', 'the', 'early', 'Leicas', 'became', 'the', 'most', 'influential', '35mm', 'cameras', '.', 'Many', 'other', 'camera', 'makers', 'started', 'their', '35mm', 'camera', 'business', 'by', 'simply', 'copying', 'original', 'Leica', 'models', ',', 'often', 'disregarding', 'any', 'legislation', 'against', 'product', 'piracy', '.', 'Some', 'renowned', 'companies', 'learned', 'to', 'make', 'sophisticated', 'camera', 'mechanics', 'that', 'way', ',', 'and', 'switched', 'later', 'to', 'the', 'production', 'of', 'own', '35mm', 'camera', 'constructions', '.', '[', '2', ']', 'Barnackâ€™s', 'invention', 'has', 'changed', 'photography', 'significantly', '.', 'The', 'Leica', 'was', 'extremely', 'compact', 'and', 'could', 'be', 'fitted', 'with', 'a', 'very', 'high', 'quality', 'lens', 'that', 'enabled', 'photographers', 'to', 'work', 'in', 'ordinary', 'outdoor', 'settings', 'with', 'available', 'light', '.', 'It', 'was', 'always', 'instantly', 'ready', 'to', 'capture', 'life', 'and', 'action', 'effortlessly', 'from', 'any', 'angle', 'with', 'the', 'photographer', 'often', 'able', 'to', 'remain', 'unnoticed', '.', 'Without', 'the', 'usual', 'heavy', 'equipment', ',', 'photographs', 'of', 'people', 'no', 'longer', 'had', 'to', 'be', 'confined', 'to', 'stiff', 'conventionally', 'artistic', 'poses', '.', '[', '3', ']', 'Eleven', 'years', 'after', 'its', 'introduction', 'in', '1935', ',', 'the', 'camera', 'and', 'enlarger', 'section', 'was', 'the', 'most', 'profitable', 'for', 'the', 'Leitz', 'company', 'that', 'still', 'produced', 'microscopes', 'and', 'huntingscopes', '.', 'At', 'yovisto', 'you', 'can', 'learn', 'more', 'about', 'the', 'history', 'of', 'photography', 'in', 'the', 'presentation', 'of', 'Nancy', 'Crandall', 'about', 'the', 'origins', 'and', 'beginnings', 'of', 'photography', '.']\n"
     ]
    }
   ],
   "source": [
    "textOut = result.get_text()\n",
    "#print(textOut)\n",
    "\n",
    "tokens = nltk.word_tokenize(textOut)\n",
    "print(tokens)"
   ]
  },
  {
   "cell_type": "markdown",
   "id": "corresponding-cooperation",
   "metadata": {},
   "source": [
    "Processing the contents by case-folding, stop-word removal and stemming."
   ]
  },
  {
   "cell_type": "code",
   "execution_count": 4,
   "id": "qualified-denial",
   "metadata": {},
   "outputs": [
    {
     "name": "stdout",
     "output_type": "stream",
     "text": [
      "['oskar', 'barnack', 'â€', '“', 'the', 'father', 'of', '35mm', 'photography', '.', 'oskar', 'barnack', '(', '1879-1936', ')', '.', 'on', 'november', '1', ',', '1879', ',', 'german', 'optical', 'engineer', ',', 'precision', 'mechanic', ',', 'and', 'industrial', 'designer', 'oskar', 'barnack', 'was', 'born', '.', 'he', 'is', 'often', 'referred', 'to', 'as', 'the', 'father', 'of', '35', 'mm', 'photography', 'for', 'his', 'invention', 'of', 'the', 'first', 'miniature', 'commercially', 'successful', 'camera', ',', 'the', 'leica', '.', 'in', 'the', 'age', 'of', 'digital', 'photography', ',', 'something', 'like', '35', 'mm', 'film', 'might', 'seem', 'like', 'some', 'forgotten', 'relict', '.', 'but', ',', 'it', 'really', 'was', 'a', 'revolution', 'that', 'brought', 'photography', 'too', 'the', 'masses', 'â€', '“', 'in', 'the', 'same', 'way', 'as', 'the', 'invention', 'of', 'theâ', 'film', 'roll', 'and', 'its', 'application', 'in', 'the', 'famous', 'kodak', 'box', 'camera', 'almost', '50', 'years', 'earlier', '.', 'actually', ',', 'very', 'little', 'is', 'only', 'known', 'about', 'the', 'private', 'life', 'of', 'oskar', 'barnack', '.', 'most', 'known', 'information', 'about', 'his', 'life', 'concerns', 'his', 'creation', '.', 'born', 'in', 'lynow', ',', 'brandenburg', ',', 'a', 'hamlet', 'south', 'of', 'berlin', ',', 'â', 'barnack', 'was', 'a', 'master', 'mechanic', 'and', 'inventor', 'working', 'for', 'the', 'carl', 'zeiss', 'company', ',', 'when', 'he', 'received', 'the', 'offer', 'to', 'join', 'the', 'ernst', 'leitz', 'optische', 'werke', 'in', 'wetzlar', 'in', '1911', '.', 'there', ',', 'he', 'was', 'in', 'charge', 'of', 'microscope', 'research', 'for', 'ernst', 'leitz', 'at', 'wetzlar', ',', 'hessen', ',', 'germany', ',', 'as', 'head', 'of', 'the', 'construction', 'department', '.', 'he', 'was', 'an', 'enthusiastic', 'photographer', ',', 'but', 'the', 'heavy', 'equipment', 'of', 'the', 'day', 'was', 'difficult', 'for', 'him', 'to', 'handle', 'due', 'to', 'his', 'poor', 'health', '.', 'thus', ',', 'he', 'sought', 'to', 'reduce', 'the', 'size', 'and', 'weight', 'ofâ', 'cameras', 'and', 'supporting', 'equipment', 'used', 'for', 'outdoor', 'photography', '.', 'as', 'early', 'as', '1905', ',', 'he', 'had', 'the', 'idea', 'of', 'reducing', 'the', 'format', 'of', 'negatives', 'and', 'then', 'enlarging', 'theâ', 'photographs', 'after', 'they', 'had', 'been', 'exposed', ',', 'involving', 'a', 'small', 'camera', 'and', 'an', 'enlarger.in', '1912', ',', 'he', 'constructed', 'already', 'aâ', '35', 'mm', 'movie', 'camera', '.', 'between', '1913', 'and', '1914', 'he', 'developed', 'the', 'ur-leica', ',', 'a', 'prototype', 'camera', 'using', '35mm', 'motion', 'picture', 'film', '.', 'from', 'the', 'start', ',', 'the', 'film', 'was', 'transported', 'horizontally', 'and', 'not', 'vertically', ',', 'as', 'was', 'the', 'case', 'with', 'movie', 'cameras', '.', 'the', 'format', '24ã—36mm', ',', 'a', 'format', 'weâ€™ve', 'all', 'been', 'accustomed', 'to', ',', 'was', 'obtained', 'by', 'doubling', 'the', 'normal', 'movie-image', '.', 'at', 'the', 'time', ',', 'most', 'cameras', 'were', 'equipped', 'with', 'glass', 'plates', 'or', 'roll', 'film', '.', 'while', 'cumbersome', ',', 'their', 'large', 'negatives', 'eliminated', 'the', 'need', 'for', 'enlargement', '.', 'but', 'lenses', 'and', 'films', 'had', 'reached', 'a', 'level', 'that', 'reduced', 'the', 'quality', 'of', 'getting', 'prints', 'through', 'enlarging', '.', '[', '2', ']', 'instead', 'of', 'the', 'exposure', 'plates', 'used', 'in', 'pastâ', 'leitz', 'cameras', ',', 'the', 'leica', 'used', 'a', 'standardized', 'film', 'strip', ',', 'adapted', 'from', '35', 'mm', 'eastman', 'kodak', 'roll-film', '.', 'barnack', 'decided', 'that', 'the', '18', 'x', '24', 'mm', '(', '3:4', 'aspect', 'ratio', ')', 'standard', 'movie', 'frame', 'was', 'not', 'large', 'enough', 'for', 'good', 'still', 'photo', 'quality', 'with', 'the', 'films', 'of', 'the', 'day', 'and', 'doubled', 'the', 'frame', 'size', 'to', '24', 'x', '36', 'mm', '(', '2:3', 'aspect', 'ratio', ')', ',', 'with', 'the', 'image', 'horizontal', 'instead', 'of', 'vertical', '.', 'another', 'leitz', 'employee', ',', 'max', 'berek', ',', 'was', 'instrumental', 'in', 'developing', 'a', 'lens', 'for', 'this', 'camera', ',', 'as', 'he', 'developed', 'the', 'first', '50mm', 'f/3.5', 'lens', 'as', 'the', 'optimum', 'focal', 'length', 'for', 'the', '24', 'x', '36mm', 'format', '.', 'the', 'â€˜originalâ€™', 'leica', 'from', '1914', 'his', '35', 'mm', 'design', 'helped', 'introduce', 'the', 'concept', 'of', 'exposing', 'a', 'small', 'area', 'of', 'film', 'to', 'create', 'a', 'negative', ',', 'then', 'enlarging', 'the', 'image', 'in', 'a', 'darkroom', '.', 'the', 'onset', 'of', 'world', 'war', 'iâ', 'kept', 'the', 'first', 'leica', 'from', 'being', 'manufactured', 'until', '1924', ',', 'and', 'it', 'was', 'not', 'introduced', 'to', 'the', 'public', 'until', '1925', ',', 'when', 'leicaâ€™s', 'chief', ',', 'the', 'optician', 'ernst', 'leitz', ',', 'took', 'a', 'gamble', 'and', 'authorized', 'the', 'production', 'of', '1,000', 'cameras', '.', 'despite', 'of', 'other', 'contemporary', 'successful', 'early', '35mm', 'camera', 'models', 'should', 'the', 'early', 'leicas', 'became', 'the', 'most', 'influential', '35mm', 'cameras', '.', 'many', 'other', 'camera', 'makers', 'started', 'their', '35mm', 'camera', 'business', 'by', 'simply', 'copying', 'original', 'leica', 'models', ',', 'often', 'disregarding', 'any', 'legislation', 'against', 'product', 'piracy', '.', 'some', 'renowned', 'companies', 'learned', 'to', 'make', 'sophisticated', 'camera', 'mechanics', 'that', 'way', ',', 'and', 'switched', 'later', 'to', 'the', 'production', 'of', 'own', '35mm', 'camera', 'constructions', '.', '[', '2', ']', 'barnackâ€™s', 'invention', 'has', 'changed', 'photography', 'significantly', '.', 'the', 'leica', 'was', 'extremely', 'compact', 'and', 'could', 'be', 'fitted', 'with', 'a', 'very', 'high', 'quality', 'lens', 'that', 'enabled', 'photographers', 'to', 'work', 'in', 'ordinary', 'outdoor', 'settings', 'with', 'available', 'light', '.', 'it', 'was', 'always', 'instantly', 'ready', 'to', 'capture', 'life', 'and', 'action', 'effortlessly', 'from', 'any', 'angle', 'with', 'the', 'photographer', 'often', 'able', 'to', 'remain', 'unnoticed', '.', 'without', 'the', 'usual', 'heavy', 'equipment', ',', 'photographs', 'of', 'people', 'no', 'longer', 'had', 'to', 'be', 'confined', 'to', 'stiff', 'conventionally', 'artistic', 'poses', '.', '[', '3', ']', 'eleven', 'years', 'after', 'its', 'introduction', 'in', '1935', ',', 'the', 'camera', 'and', 'enlarger', 'section', 'was', 'the', 'most', 'profitable', 'for', 'the', 'leitz', 'company', 'that', 'still', 'produced', 'microscopes', 'and', 'huntingscopes', '.', 'at', 'yovisto', 'you', 'can', 'learn', 'more', 'about', 'the', 'history', 'of', 'photography', 'in', 'the', 'presentation', 'of', 'nancy', 'crandall', 'about', 'the', 'origins', 'and', 'beginnings', 'of', 'photography', '.']\n"
     ]
    }
   ],
   "source": [
    "for i in range(len(tokens)):\n",
    "    tokens[i] = tokens[i].casefold()\n",
    "    \n",
    "print(tokens)"
   ]
  },
  {
   "cell_type": "code",
   "execution_count": 5,
   "id": "incorrect-choir",
   "metadata": {},
   "outputs": [
    {
     "name": "stdout",
     "output_type": "stream",
     "text": [
      "['oskar', 'barnack', 'â€', '“', 'father', '35mm', 'photography', '.', 'oskar', 'barnack', '(', '1879-1936', ')', '.', 'november', '1', ',', '1879', ',', 'german', 'optical', 'engineer', ',', 'precision', 'mechanic', ',', 'industrial', 'designer', 'oskar', 'barnack', 'born', '.', 'often', 'referred', 'father', '35', 'mm', 'photography', 'invention', 'first', 'miniature', 'commercially', 'successful', 'camera', ',', 'leica', '.', 'age', 'digital', 'photography', ',', 'something', 'like', '35', 'mm', 'film', 'might', 'seem', 'like', 'forgotten', 'relict', '.', ',', 'really', 'revolution', 'brought', 'photography', 'masses', 'â€', '“', 'way', 'invention', 'theâ', 'film', 'roll', 'application', 'famous', 'kodak', 'box', 'camera', 'almost', '50', 'years', 'earlier', '.', 'actually', ',', 'little', 'known', 'private', 'life', 'oskar', 'barnack', '.', 'known', 'information', 'life', 'concerns', 'creation', '.', 'born', 'lynow', ',', 'brandenburg', ',', 'hamlet', 'south', 'berlin', ',', 'â', 'barnack', 'master', 'mechanic', 'inventor', 'working', 'carl', 'zeiss', 'company', ',', 'received', 'offer', 'join', 'ernst', 'leitz', 'optische', 'werke', 'wetzlar', '1911', '.', ',', 'charge', 'microscope', 'research', 'ernst', 'leitz', 'wetzlar', ',', 'hessen', ',', 'germany', ',', 'head', 'construction', 'department', '.', 'enthusiastic', 'photographer', ',', 'heavy', 'equipment', 'day', 'difficult', 'handle', 'due', 'poor', 'health', '.', 'thus', ',', 'sought', 'reduce', 'size', 'weight', 'ofâ', 'cameras', 'supporting', 'equipment', 'used', 'outdoor', 'photography', '.', 'early', '1905', ',', 'idea', 'reducing', 'format', 'negatives', 'enlarging', 'theâ', 'photographs', 'exposed', ',', 'involving', 'small', 'camera', 'enlarger.in', '1912', ',', 'constructed', 'already', 'aâ', '35', 'mm', 'movie', 'camera', '.', '1913', '1914', 'developed', 'ur-leica', ',', 'prototype', 'camera', 'using', '35mm', 'motion', 'picture', 'film', '.', 'start', ',', 'film', 'transported', 'horizontally', 'vertically', ',', 'case', 'movie', 'cameras', '.', 'format', '24ã—36mm', ',', 'format', 'weâ€™ve', 'accustomed', ',', 'obtained', 'doubling', 'normal', 'movie-image', '.', 'time', ',', 'cameras', 'equipped', 'glass', 'plates', 'roll', 'film', '.', 'cumbersome', ',', 'large', 'negatives', 'eliminated', 'need', 'enlargement', '.', 'lenses', 'films', 'reached', 'level', 'reduced', 'quality', 'getting', 'prints', 'enlarging', '.', '[', '2', ']', 'instead', 'exposure', 'plates', 'used', 'pastâ', 'leitz', 'cameras', ',', 'leica', 'used', 'standardized', 'film', 'strip', ',', 'adapted', '35', 'mm', 'eastman', 'kodak', 'roll-film', '.', 'barnack', 'decided', '18', 'x', '24', 'mm', '(', '3:4', 'aspect', 'ratio', ')', 'standard', 'movie', 'frame', 'large', 'enough', 'good', 'still', 'photo', 'quality', 'films', 'day', 'doubled', 'frame', 'size', '24', 'x', '36', 'mm', '(', '2:3', 'aspect', 'ratio', ')', ',', 'image', 'horizontal', 'instead', 'vertical', '.', 'another', 'leitz', 'employee', ',', 'max', 'berek', ',', 'instrumental', 'developing', 'lens', 'camera', ',', 'developed', 'first', '50mm', 'f/3.5', 'lens', 'optimum', 'focal', 'length', '24', 'x', '36mm', 'format', '.', 'â€˜originalâ€™', 'leica', '1914', '35', 'mm', 'design', 'helped', 'introduce', 'concept', 'exposing', 'small', 'area', 'film', 'create', 'negative', ',', 'enlarging', 'image', 'darkroom', '.', 'onset', 'world', 'war', 'iâ', 'kept', 'first', 'leica', 'manufactured', '1924', ',', 'introduced', 'public', '1925', ',', 'leicaâ€™s', 'chief', ',', 'optician', 'ernst', 'leitz', ',', 'took', 'gamble', 'authorized', 'production', '1,000', 'cameras', '.', 'despite', 'contemporary', 'successful', 'early', '35mm', 'camera', 'models', 'early', 'leicas', 'became', 'influential', '35mm', 'cameras', '.', 'many', 'camera', 'makers', 'started', '35mm', 'camera', 'business', 'simply', 'copying', 'original', 'leica', 'models', ',', 'often', 'disregarding', 'legislation', 'product', 'piracy', '.', 'renowned', 'companies', 'learned', 'make', 'sophisticated', 'camera', 'mechanics', 'way', ',', 'switched', 'later', 'production', '35mm', 'camera', 'constructions', '.', '[', '2', ']', 'barnackâ€™s', 'invention', 'changed', 'photography', 'significantly', '.', 'leica', 'extremely', 'compact', 'could', 'fitted', 'high', 'quality', 'lens', 'enabled', 'photographers', 'work', 'ordinary', 'outdoor', 'settings', 'available', 'light', '.', 'always', 'instantly', 'ready', 'capture', 'life', 'action', 'effortlessly', 'angle', 'photographer', 'often', 'able', 'remain', 'unnoticed', '.', 'without', 'usual', 'heavy', 'equipment', ',', 'photographs', 'people', 'longer', 'confined', 'stiff', 'conventionally', 'artistic', 'poses', '.', '[', '3', ']', 'eleven', 'years', 'introduction', '1935', ',', 'camera', 'enlarger', 'section', 'profitable', 'leitz', 'company', 'still', 'produced', 'microscopes', 'huntingscopes', '.', 'yovisto', 'learn', 'history', 'photography', 'presentation', 'nancy', 'crandall', 'origins', 'beginnings', 'photography', '.']\n"
     ]
    }
   ],
   "source": [
    "stop_words = set(stopwords.words('english'))\n",
    "\n",
    "filtered_list = []\n",
    "\n",
    "for word in tokens: \n",
    "    if word not in stop_words:\n",
    "        filtered_list.append(word)\n",
    "\n",
    "tokens = filtered_list\n",
    "print(tokens)"
   ]
  },
  {
   "cell_type": "code",
   "execution_count": 6,
   "id": "catholic-simulation",
   "metadata": {},
   "outputs": [
    {
     "name": "stdout",
     "output_type": "stream",
     "text": [
      "['oskar', 'barnack', 'â€', '“', 'father', '35mm', 'photographi', '.', 'oskar', 'barnack', '(', '1879-1936', ')', '.', 'novemb', '1', ',', '1879', ',', 'german', 'optic', 'engin', ',', 'precis', 'mechan', ',', 'industri', 'design', 'oskar', 'barnack', 'born', '.', 'often', 'refer', 'father', '35', 'mm', 'photographi', 'invent', 'first', 'miniatur', 'commerci', 'success', 'camera', ',', 'leica', '.', 'age', 'digit', 'photographi', ',', 'someth', 'like', '35', 'mm', 'film', 'might', 'seem', 'like', 'forgotten', 'relict', '.', ',', 'realli', 'revolut', 'brought', 'photographi', 'mass', 'â€', '“', 'way', 'invent', 'theâ', 'film', 'roll', 'applic', 'famou', 'kodak', 'box', 'camera', 'almost', '50', 'year', 'earlier', '.', 'actual', ',', 'littl', 'known', 'privat', 'life', 'oskar', 'barnack', '.', 'known', 'inform', 'life', 'concern', 'creation', '.', 'born', 'lynow', ',', 'brandenburg', ',', 'hamlet', 'south', 'berlin', ',', 'â', 'barnack', 'master', 'mechan', 'inventor', 'work', 'carl', 'zeiss', 'compani', ',', 'receiv', 'offer', 'join', 'ernst', 'leitz', 'optisch', 'werk', 'wetzlar', '1911', '.', ',', 'charg', 'microscop', 'research', 'ernst', 'leitz', 'wetzlar', ',', 'hessen', ',', 'germani', ',', 'head', 'construct', 'depart', '.', 'enthusiast', 'photograph', ',', 'heavi', 'equip', 'day', 'difficult', 'handl', 'due', 'poor', 'health', '.', 'thu', ',', 'sought', 'reduc', 'size', 'weight', 'ofâ', 'camera', 'support', 'equip', 'use', 'outdoor', 'photographi', '.', 'earli', '1905', ',', 'idea', 'reduc', 'format', 'neg', 'enlarg', 'theâ', 'photograph', 'expos', ',', 'involv', 'small', 'camera', 'enlarger.in', '1912', ',', 'construct', 'alreadi', 'aâ', '35', 'mm', 'movi', 'camera', '.', '1913', '1914', 'develop', 'ur-leica', ',', 'prototyp', 'camera', 'use', '35mm', 'motion', 'pictur', 'film', '.', 'start', ',', 'film', 'transport', 'horizont', 'vertic', ',', 'case', 'movi', 'camera', '.', 'format', '24ã—36mm', ',', 'format', 'weâ€™v', 'accustom', ',', 'obtain', 'doubl', 'normal', 'movie-imag', '.', 'time', ',', 'camera', 'equip', 'glass', 'plate', 'roll', 'film', '.', 'cumbersom', ',', 'larg', 'neg', 'elimin', 'need', 'enlarg', '.', 'lens', 'film', 'reach', 'level', 'reduc', 'qualiti', 'get', 'print', 'enlarg', '.', '[', '2', ']', 'instead', 'exposur', 'plate', 'use', 'pastâ', 'leitz', 'camera', ',', 'leica', 'use', 'standard', 'film', 'strip', ',', 'adapt', '35', 'mm', 'eastman', 'kodak', 'roll-film', '.', 'barnack', 'decid', '18', 'x', '24', 'mm', '(', '3:4', 'aspect', 'ratio', ')', 'standard', 'movi', 'frame', 'larg', 'enough', 'good', 'still', 'photo', 'qualiti', 'film', 'day', 'doubl', 'frame', 'size', '24', 'x', '36', 'mm', '(', '2:3', 'aspect', 'ratio', ')', ',', 'imag', 'horizont', 'instead', 'vertic', '.', 'anoth', 'leitz', 'employe', ',', 'max', 'berek', ',', 'instrument', 'develop', 'len', 'camera', ',', 'develop', 'first', '50mm', 'f/3.5', 'len', 'optimum', 'focal', 'length', '24', 'x', '36mm', 'format', '.', 'â€˜originalâ€™', 'leica', '1914', '35', 'mm', 'design', 'help', 'introduc', 'concept', 'expos', 'small', 'area', 'film', 'creat', 'neg', ',', 'enlarg', 'imag', 'darkroom', '.', 'onset', 'world', 'war', 'iâ', 'kept', 'first', 'leica', 'manufactur', '1924', ',', 'introduc', 'public', '1925', ',', 'leicaâ€™', 'chief', ',', 'optician', 'ernst', 'leitz', ',', 'took', 'gambl', 'author', 'product', '1,000', 'camera', '.', 'despit', 'contemporari', 'success', 'earli', '35mm', 'camera', 'model', 'earli', 'leica', 'becam', 'influenti', '35mm', 'camera', '.', 'mani', 'camera', 'maker', 'start', '35mm', 'camera', 'busi', 'simpli', 'copi', 'origin', 'leica', 'model', ',', 'often', 'disregard', 'legisl', 'product', 'piraci', '.', 'renown', 'compani', 'learn', 'make', 'sophist', 'camera', 'mechan', 'way', ',', 'switch', 'later', 'product', '35mm', 'camera', 'construct', '.', '[', '2', ']', 'barnackâ€™', 'invent', 'chang', 'photographi', 'significantli', '.', 'leica', 'extrem', 'compact', 'could', 'fit', 'high', 'qualiti', 'len', 'enabl', 'photograph', 'work', 'ordinari', 'outdoor', 'set', 'avail', 'light', '.', 'alway', 'instantli', 'readi', 'captur', 'life', 'action', 'effortlessli', 'angl', 'photograph', 'often', 'abl', 'remain', 'unnot', '.', 'without', 'usual', 'heavi', 'equip', ',', 'photograph', 'peopl', 'longer', 'confin', 'stiff', 'convent', 'artist', 'pose', '.', '[', '3', ']', 'eleven', 'year', 'introduct', '1935', ',', 'camera', 'enlarg', 'section', 'profit', 'leitz', 'compani', 'still', 'produc', 'microscop', 'huntingscop', '.', 'yovisto', 'learn', 'histori', 'photographi', 'present', 'nanci', 'crandal', 'origin', 'begin', 'photographi', '.']\n"
     ]
    }
   ],
   "source": [
    "ps = PorterStemmer() \n",
    "\n",
    "for i in range(len(tokens)):\n",
    "    tokens[i] = ps.stem(tokens[i])\n",
    "    \n",
    "print(tokens)"
   ]
  }
 ],
 "metadata": {
  "kernelspec": {
   "display_name": "Python 3",
   "language": "python",
   "name": "python3"
  },
  "language_info": {
   "codemirror_mode": {
    "name": "ipython",
    "version": 3
   },
   "file_extension": ".py",
   "mimetype": "text/x-python",
   "name": "python",
   "nbconvert_exporter": "python",
   "pygments_lexer": "ipython3",
   "version": "3.8.2"
  }
 },
 "nbformat": 4,
 "nbformat_minor": 5
}
