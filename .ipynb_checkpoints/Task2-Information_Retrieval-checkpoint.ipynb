{
 "cells": [
  {
   "cell_type": "markdown",
   "id": "derived-basis",
   "metadata": {},
   "source": [
    "# Task 2: Information Retrieval"
   ]
  },
  {
   "attachments": {
    "a0b4ac6e-eff7-4755-bfbd-5e16c62e5b0c.png": {
     "image/png": "[encoded data removed]"
    }
   },
   "cell_type": "markdown",
   "id": "minute-sussex",
   "metadata": {},
   "source": [
    "## Document Indexing\n",
    "\n",
    "![image.png](attachment:a0b4ac6e-eff7-4755-bfbd-5e16c62e5b0c.png)"
   ]
  },
  {
   "cell_type": "markdown",
   "id": "cheap-vision",
   "metadata": {},
   "source": [
    "Importing all necessary libraries"
   ]
  },
  {
   "cell_type": "code",
   "execution_count": 1,
   "id": "united-comment",
   "metadata": {},
   "outputs": [],
   "source": [
    "import os\n",
    "import math\n",
    "import numpy as np\n",
    "import nltk\n",
    "from nltk.corpus import stopwords\n",
    "from nltk.stem import PorterStemmer \n",
    "from bs4 import BeautifulSoup as bs"
   ]
  },
  {
   "cell_type": "code",
   "execution_count": 2,
   "id": "square-thousand",
   "metadata": {},
   "outputs": [],
   "source": [
    "def read_file(fileName):\n",
    "\n",
    "    content = []\n",
    "    with open(fileName, 'r', encoding=\"utf8\") as file:\n",
    "        # Read each line in the file, readlines() returns a list of lines\n",
    "        content = file.readlines()\n",
    "\n",
    "        # Combine the lines in the list into a string\n",
    "        content = \"\".join(content)\n",
    "        bs_content = bs(content, \"xml\")\n",
    "\n",
    "    #returns \"bs4.element.Tag\" object\n",
    "    result = bs_content.find(\"raw\")\n",
    "    #print(result.prettify())\n",
    "\n",
    "    return result"
   ]
  },
  {
   "cell_type": "code",
   "execution_count": 3,
   "id": "prerequisite-opportunity",
   "metadata": {},
   "outputs": [],
   "source": [
    "#Changing from a bs4.element.Tag object to a String.\n",
    "def convert_Text(data):\n",
    "\n",
    "    text = data.get_text()\n",
    "    \n",
    "    #print(text)\n",
    "    return text"
   ]
  },
  {
   "cell_type": "code",
   "execution_count": 4,
   "id": "hired-theology",
   "metadata": {},
   "outputs": [],
   "source": [
    "def tokenize(data):\n",
    "    \n",
    "    tokens = nltk.word_tokenize(data)\n",
    "    \n",
    "    #print(tokens)\n",
    "    return tokens"
   ]
  },
  {
   "cell_type": "code",
   "execution_count": 5,
   "id": "amended-bundle",
   "metadata": {},
   "outputs": [],
   "source": [
    "def change_case(data):\n",
    "\n",
    "    for i in range(len(data)):\n",
    "        data[i] = data[i].casefold()\n",
    "\n",
    "    #print(data)\n",
    "    return data"
   ]
  },
  {
   "cell_type": "code",
   "execution_count": 6,
   "id": "second-logic",
   "metadata": {},
   "outputs": [],
   "source": [
    "def remove_stop_words(data):\n",
    "    \n",
    "    stop_words = set(stopwords.words('english'))\n",
    "\n",
    "    filtered_list = []\n",
    "\n",
    "    for word in data: \n",
    "        if word not in stop_words:\n",
    "            filtered_list.append(word)\n",
    "\n",
    "    #print(filtered_list)\n",
    "    return filtered_list"
   ]
  },
  {
   "cell_type": "code",
   "execution_count": 7,
   "id": "viral-disorder",
   "metadata": {},
   "outputs": [],
   "source": [
    "def stemming(data):\n",
    "    \n",
    "    ps = PorterStemmer() \n",
    "\n",
    "    for i in range(len(data)):\n",
    "        data[i] = ps.stem(data[i])\n",
    "\n",
    "    #print(data)\n",
    "    return data"
   ]
  },
  {
   "cell_type": "code",
   "execution_count": 8,
   "id": "extended-niagara",
   "metadata": {},
   "outputs": [],
   "source": [
    "def remove_symbols(data):\n",
    "    \n",
    "    temp = []\n",
    "\n",
    "    symbols = \"“”‘’!\\\"#$€%&()*'+-,./:;<=>?@[\\]^_`{|}~\\n\"\n",
    "    for t in data:\n",
    "        if t not in symbols:\n",
    "            temp.append(t)\n",
    "            \n",
    "    #print(temp)\n",
    "    return temp"
   ]
  },
  {
   "cell_type": "code",
   "execution_count": 9,
   "id": "blessed-myrtle",
   "metadata": {},
   "outputs": [],
   "source": [
    "def preprocessing(filename):\n",
    "    data = read_file(filename)\n",
    "    data = convert_Text(data)\n",
    "    data = tokenize(data)\n",
    "    data = change_case(data)\n",
    "    data = remove_stop_words(data)\n",
    "    data = stemming(data)\n",
    "    data = remove_symbols(data)\n",
    "    \n",
    "    #print(\"Finished PreProcessing:\")\n",
    "    #print(data)\n",
    "    \n",
    "    return data"
   ]
  },
  {
   "cell_type": "markdown",
   "id": "improved-bradford",
   "metadata": {},
   "source": [
    "Create a Dictionary for a file. Storing the Term Frequency in a document."
   ]
  },
  {
   "cell_type": "code",
   "execution_count": 10,
   "id": "failing-yugoslavia",
   "metadata": {},
   "outputs": [],
   "source": [
    "def create_Dictionary(data):\n",
    "    docDict = {}\n",
    "\n",
    "    for i in range(len(data)):\n",
    "        tokens = data[i]\n",
    "        try:\n",
    "            docDict[data[i]].add(i)\n",
    "        except:\n",
    "            docDict[data[i]] = {i}\n",
    "\n",
    "    for i in docDict:\n",
    "        docDict[i] = len(docDict[i])\n",
    "\n",
    "    return docDict"
   ]
  },
  {
   "cell_type": "markdown",
   "id": "automotive-pixel",
   "metadata": {},
   "source": [
    "Get all the unique words in a document"
   ]
  },
  {
   "cell_type": "code",
   "execution_count": 11,
   "id": "interim-upset",
   "metadata": {},
   "outputs": [],
   "source": [
    "def get_doc_words(docDict):\n",
    "    doc_words = [x for x in docDict]\n",
    "    \n",
    "    return doc_words"
   ]
  },
  {
   "cell_type": "markdown",
   "id": "advanced-young",
   "metadata": {},
   "source": [
    "Calculate the Term Frequency. Meaning the the number of times a word appears in a document divded by the total number of words in the document. "
   ]
  },
  {
   "cell_type": "code",
   "execution_count": 12,
   "id": "prospective-dutch",
   "metadata": {},
   "outputs": [],
   "source": [
    "def calculate_TF(docDict):\n",
    "    tfDict = {}\n",
    "    doc_words = get_doc_words(docDict)\n",
    "    doc_words_count = len(doc_words)\n",
    "    for word, count in docDict.items():\n",
    "        tfDict[word] = count / float(doc_words_count)\n",
    "    return tfDict"
   ]
  },
  {
   "cell_type": "code",
   "execution_count": 13,
   "id": "faced-solution",
   "metadata": {},
   "outputs": [],
   "source": [
    "def get_TF_Matrix(tfDict):\n",
    "\n",
    "    data = list(tfDict.items())\n",
    "    tfMatrix = np.array(data)\n",
    "    \n",
    "    return tfMatrix"
   ]
  },
  {
   "cell_type": "code",
   "execution_count": 33,
   "id": "chief-northern",
   "metadata": {},
   "outputs": [],
   "source": [
    "def print_Matrix(matrix):\n",
    "    print('\\n'.join([''.join(['{:18}'.format(item) for item in row]) \n",
    "      for row in matrix]))"
   ]
  },
  {
   "cell_type": "markdown",
   "id": "radio-scenario",
   "metadata": {},
   "source": [
    "Calculate the Inverse Data Frequency. Meaning the log of the number of documents divided by the number of documents that contain a specific word."
   ]
  },
  {
   "cell_type": "code",
   "execution_count": 15,
   "id": "voluntary-munich",
   "metadata": {},
   "outputs": [],
   "source": [
    "def calculate_IDF_TEST(documents):\n",
    "    N = len(documents)\n",
    "\n",
    "    idfDict = dict.fromkeys(documents[0].keys(), 0)\n",
    "    for document in documents:\n",
    "        for word, val in document.items():\n",
    "            if val > 0:\n",
    "                idfDict[word] += 1\n",
    "    \n",
    "    for word, val in idfDict.items():\n",
    "        idfDict[word] = math.log(N / float(val))\n",
    "    return idfDict"
   ]
  },
  {
   "cell_type": "code",
   "execution_count": 16,
   "id": "elegant-internship",
   "metadata": {},
   "outputs": [],
   "source": [
    "def calculate_IDF(dataset):\n",
    "    \n",
    "    #total documents\n",
    "    N = len(dataset)\n",
    "    \n",
    "    dfDict = calculate_DF(dataset)\n",
    "    \n",
    "    idfDict = {}\n",
    "    \n",
    "    for word, val in dfDict.items():\n",
    "        idfDict[word] = math.log(N / float(val))\n",
    "\n",
    "    return idfDict"
   ]
  },
  {
   "cell_type": "markdown",
   "id": "changing-boxing",
   "metadata": {},
   "source": [
    "Return a list of all the unique words from all of the files"
   ]
  },
  {
   "cell_type": "code",
   "execution_count": 17,
   "id": "greenhouse-percentage",
   "metadata": {},
   "outputs": [],
   "source": [
    "def get_unique_words(dataset):\n",
    "    \n",
    "    unique_terms = []\n",
    "    \n",
    "    for f in dataset:\n",
    "        dict = create_Dictionary(f)\n",
    "        words = get_doc_words(dict)\n",
    "        unique_terms.extend(words)\n",
    "    \n",
    "    unique_terms = set(unique_terms)\n",
    "    return unique_terms"
   ]
  },
  {
   "cell_type": "markdown",
   "id": "unexpected-legislature",
   "metadata": {},
   "source": [
    "Calculating the Document Frequency. Number of Documents containing a particular term."
   ]
  },
  {
   "cell_type": "code",
   "execution_count": 18,
   "id": "stone-hardware",
   "metadata": {},
   "outputs": [],
   "source": [
    "def calculate_DF(dataset):\n",
    "    \n",
    "    unique_terms = get_unique_words(dataset)\n",
    "    \n",
    "    DF = {}\n",
    "    \n",
    "    for term in unique_terms:\n",
    "        found = 0    \n",
    "        for i in range(0, len(dataset)):\n",
    "            for t in dataset[i]:\n",
    "                if term == t:\n",
    "                    found += 1\n",
    "                    break\n",
    "        \n",
    "        DF[term] = found\n",
    "\n",
    "    return DF"
   ]
  },
  {
   "cell_type": "markdown",
   "id": "statewide-division",
   "metadata": {},
   "source": [
    "Term frequency–inverse document frequency"
   ]
  },
  {
   "cell_type": "code",
   "execution_count": 19,
   "id": "comparative-script",
   "metadata": {},
   "outputs": [],
   "source": [
    "def calculate_TFIDF(dataset):\n",
    "    \n",
    "    return"
   ]
  },
  {
   "cell_type": "markdown",
   "id": "corrected-combat",
   "metadata": {},
   "source": [
    "os.walk gives us the files in the directory, os.getcwd gives us the current directory and title and we are going to search in the current directory + stories folder as our data files are in the stories folder"
   ]
  },
  {
   "cell_type": "code",
   "execution_count": 20,
   "id": "indonesian-internship",
   "metadata": {},
   "outputs": [],
   "source": [
    "filenames = []\n",
    "for (root,dirs,files) in os.walk(str(os.getcwd())+'/docs-raw-texts/'):\n",
    "    filenames.extend(files)\n",
    "    path = root\n",
    "    break"
   ]
  },
  {
   "cell_type": "code",
   "execution_count": 21,
   "id": "declared-interaction",
   "metadata": {},
   "outputs": [],
   "source": [
    "file_dataset = []\n",
    "for f in filenames:\n",
    "    temp = []\n",
    "    #print(path + f)\n",
    "    \n",
    "    file = open(path+f, 'r', encoding=\"utf8\")\n",
    "    text = file.read().strip()\n",
    "    file.close()\n",
    "\n",
    "    bs_content = bs(text, \"xml\")\n",
    "\n",
    "    #returns \"bs4.element.Tag\" object\n",
    "    file_title = (bs_content.find(\"fileDesc\")).get(\"title\")\n",
    "    #print(file_title)\n",
    "    \n",
    "    temp.append(str(path + f))\n",
    "    temp.append(str(file_title))\n",
    "    \n",
    "    file_dataset.append(temp)\n",
    "    \n",
    "#file_dataset"
   ]
  },
  {
   "cell_type": "code",
   "execution_count": 22,
   "id": "technological-origin",
   "metadata": {},
   "outputs": [],
   "source": [
    "#dataset conatainging all pre-processed files\n",
    "dataset = []\n",
    "\n",
    "for f in file_dataset:\n",
    "    data = preprocessing(f[0])\n",
    "    dataset.append(data)"
   ]
  },
  {
   "cell_type": "markdown",
   "id": "metropolitan-wildlife",
   "metadata": {},
   "source": [
    "Creating a matrix"
   ]
  },
  {
   "cell_type": "code",
   "execution_count": null,
   "id": "stunning-photograph",
   "metadata": {},
   "outputs": [],
   "source": [
    "unique_words = list(get_unique_words(dataset))\n",
    "\n",
    "#TF_Matrix = [[0]*len(unique_words)]\n",
    "\n",
    "#for i in range(0, len(unique_words)):\n",
    "    #TF_Matrix[i].append(unique_words[i])\n",
    "\n",
    "TF_Matrix = unique_words\n",
    "\n",
    "for d in dataset:\n",
    "    file_DF = create_Dictionary(d)\n",
    "    file_TF = get_TF_Matrix(calculate_TF(file_DF))\n",
    "            \n",
    "    for i in range(0, len(file_TF)):\n",
    "        for j in range(0, len(TF_Matrix)):\n",
    "            if TF_Matrix[j] == file_TF[i][0]:\n",
    "                TF_Matrix[j] = list(TF_Matrix[j])\n",
    "                TF_Matrix[j].append(file_TF[i][1])\n",
    "\n",
    "print(TF_Matrix)"
   ]
  },
  {
   "cell_type": "code",
   "execution_count": 70,
   "id": "extraordinary-property",
   "metadata": {},
   "outputs": [
    {
     "name": "stdout",
     "output_type": "stream",
     "text": [
      "walt              0.01639344262295082\n",
      "disney            0.04371584699453552\n",
      "steamboat         0.03825136612021858\n",
      "willi             0.03278688524590164\n",
      "rise              0.00546448087431694\n",
      "mickey            0.07103825136612021\n",
      "mous              0.04371584699453552\n",
      "star              0.02185792349726776\n",
      "walk              0.00546448087431694\n",
      "fame              0.01092896174863388\n",
      "imag              0.00546448087431694\n",
      "flickr            0.00546448087431694\n",
      "user              0.00546448087431694\n",
      "freshwater2006    0.00546448087431694\n",
      "novemb            0.01092896174863388\n",
      "18                0.01092896174863388\n",
      "1928              0.01092896174863388\n",
      "anim              0.01092896174863388\n",
      "movi              0.02185792349726776\n",
      "releas            0.00546448087431694\n",
      "present           0.00546448087431694\n",
      "famou             0.00546448087431694\n",
      "charact           0.01639344262295082\n",
      "first             0.03278688524590164\n",
      "time              0.01092896174863388\n",
      "new               0.01639344262295082\n",
      "york              0.01092896174863388\n",
      "citi              0.01092896174863388\n",
      "film              0.03278688524590164\n",
      "also              0.00546448087431694\n",
      "notabl            0.00546448087431694\n",
      "cartoon           0.03825136612021858\n",
      "synchron          0.01639344262295082\n",
      "sound             0.04918032786885246\n",
      "produc            0.03825136612021858\n",
      "black-and-whit    0.00546448087431694\n",
      "debut             0.00546448087431694\n",
      "well              0.01092896174863388\n",
      "girlfriend        0.00546448087431694\n",
      "minni             0.01092896174863388\n",
      "even              0.00546448087431694\n",
      "though            0.00546448087431694\n",
      "third             0.00546448087431694\n",
      "distribut         0.00546448087431694\n",
      "start             0.00546448087431694\n",
      "steer             0.00546448087431694\n",
      "river             0.01092896174863388\n",
      "boat              0.00546448087431694\n",
      "real              0.00546448087431694\n",
      "captain           0.00546448087431694\n",
      "pete              0.01639344262295082\n",
      "appear            0.01639344262295082\n",
      "order             0.01092896174863388\n",
      "bridg             0.00546448087431694\n",
      "proceed           0.01092896174863388\n",
      "fight             0.00546448087431694\n",
      "back              0.01092896174863388\n",
      "forth             0.00546448087431694\n",
      "ship              0.00546448087431694\n",
      "accident          0.00546448087431694\n",
      "trip              0.00546448087431694\n",
      "fall              0.00546448087431694\n",
      "eventu            0.00546448087431694\n",
      "board             0.00546448087431694\n",
      "two               0.00546448087431694\n",
      "mice              0.00546448087431694\n",
      "make              0.01092896174863388\n",
      "music             0.01092896174863388\n",
      "togeth            0.00546448087431694\n",
      "use               0.02185792349726776\n",
      "aboard            0.00546448087431694\n",
      "meanwhil          0.00546448087431694\n",
      "get               0.00546448087431694\n",
      "angri             0.00546448087431694\n",
      "peel              0.00546448087431694\n",
      "potato            0.01092896174863388\n",
      "parrot            0.01092896174863388\n",
      "fun               0.00546448087431694\n",
      "throw             0.00546448087431694\n",
      "knock             0.00546448087431694\n",
      "oswald            0.00546448087431694\n",
      "lucki             0.00546448087431694\n",
      "rabbit            0.00546448087431694\n",
      "one               0.00546448087431694\n",
      "person            0.00546448087431694\n",
      "howev             0.01092896174863388\n",
      "lost              0.00546448087431694\n",
      "right             0.00546448087431694\n",
      "intend            0.00546448087431694\n",
      "becom             0.00546448087431694\n",
      "silent            0.00546448087431694\n",
      "realli            0.00546448087431694\n",
      "impress           0.00546448087431694\n",
      "audienc           0.01639344262295082\n",
      "distributor       0.00546448087431694\n",
      "found             0.00546448087431694\n",
      "came              0.00546448087431694\n",
      "realiz            0.00546448087431694\n",
      "ad                0.00546448087431694\n",
      "would             0.00546448087431694\n",
      "probabl           0.00546448087431694\n",
      "increas           0.00546448087431694\n",
      "appeal            0.00546448087431694\n",
      "dave              0.00546448087431694\n",
      "max               0.00546448087431694\n",
      "fleischer         0.00546448087431694\n",
      "inkwel            0.00546448087431694\n",
      "studio            0.00546448087431694\n",
      "19                0.00546448087431694\n",
      "mid               0.00546448087431694\n",
      "1920              0.00546448087431694\n",
      "phonofilm         0.00546448087431694\n",
      "sound-on-film     0.00546448087431694\n",
      "process           0.00546448087431694\n",
      "unfortun          0.00546448087431694\n",
      "could             0.00546448087431694\n",
      "complet           0.00546448087431694\n",
      "click             0.01092896174863388\n",
      "track             0.01092896174863388\n",
      "keep              0.00546448087431694\n",
      "musician          0.00546448087431694\n",
      "beat              0.00546448087431694\n",
      "meant             0.00546448087431694\n",
      "optic             0.00546448087431694\n",
      "mark              0.00546448087431694\n",
      "made              0.00546448087431694\n",
      "indic             0.00546448087431694\n",
      "precis            0.00546448087431694\n",
      "accompani         0.01092896174863388\n",
      "initi             0.00546448087431694\n",
      "doubt             0.00546448087431694\n",
      "arrang            0.00546448087431694\n",
      "test              0.00546448087431694\n",
      "screen            0.01092896174863388\n",
      "small             0.00546448087431694\n",
      "consist           0.01092896174863388\n",
      "employe           0.00546448087431694\n",
      "wive              0.00546448087431694\n",
      "live              0.00546448087431694\n",
      "partli            0.00546448087431694\n",
      "finish            0.00546448087431694\n",
      "behind            0.01092896174863388\n",
      "bed               0.00546448087431694\n",
      "sheet             0.01092896174863388\n",
      "instal            0.00546448087431694\n",
      "along             0.00546448087431694\n",
      "microphon         0.00546448087431694\n",
      "speaker           0.00546448087431694\n",
      "mouth             0.00546448087431694\n",
      "organ             0.00546448087431694\n",
      "percuss           0.00546448087431694\n",
      "sever             0.00546448087431694\n",
      "special           0.00546448087431694\n",
      "effect            0.00546448087431694\n",
      "like              0.00546448087431694\n",
      "bell              0.00546448087431694\n",
      "whistl            0.00546448087431694\n",
      "love              0.00546448087431694\n",
      "compani           0.00546448087431694\n",
      "hire              0.00546448087431694\n",
      "profession        0.00546448087431694\n",
      "system            0.00546448087431694\n",
      "green             0.00546448087431694\n",
      "brother           0.00546448087431694\n",
      "novelti           0.00546448087431694\n",
      "band              0.00546448087431694\n",
      "final             0.00546448087431694\n",
      "soundtrack        0.00546448087431694\n",
      "premier           0.00546448087431694\n",
      "univers           0.00546448087431694\n",
      "coloni            0.00546448087431694\n",
      "theater           0.00546448087431694\n",
      "instant           0.00546448087431694\n",
      "success           0.00546448087431694\n",
      "caus              0.00546448087431694\n",
      "intern            0.00546448087431694\n",
      "yovisto           0.00546448087431694\n",
      "may               0.00546448087431694\n",
      "interest          0.00546448087431694\n",
      "lectur            0.00546448087431694\n",
      "power             0.00546448087431694\n",
      "patrick           0.00546448087431694\n",
      "chappatt          0.00546448087431694\n"
     ]
    }
   ],
   "source": [
    "#preprocessing of a file in the file_dataset\n",
    "#file1 = preprocessing(file_dataset[3][0])\n",
    "\n",
    "#creating a Dictionary of file1 with number of times a word is found in that document\n",
    "#print(file1)\n",
    "file1_DF = create_Dictionary(dataset[3])\n",
    "\n",
    "file1_TF = get_TF_Matrix(calculate_TF(file1_DF))\n",
    "print_Matrix(file1_TF)\n",
    "\n",
    "#preprocessing of a file in the file_dataset\n",
    "#file2 = preprocessing(dataset[0])\n",
    "\n",
    "#creating a Dictionary of file1 with number of times a word is found in that document\n",
    "#print(file2)\n",
    "#file2_DF = create_Dictionary(file2)\n",
    "\n",
    "#file2_TF = get_TF_Matrix(calculate_TF(file2_DF))\n",
    "#print_Matrix(file2_TF)\n",
    "\n",
    "#print(calculate_IDF(dataset))\n",
    "#print(get_unique_words(dataset))\n",
    "#print(dataset)\n",
    "#calculate_IDF(dataset)\n",
    "#print_Matrix(dataset)"
   ]
  }
 ],
 "metadata": {
  "kernelspec": {
   "display_name": "Python 3",
   "language": "python",
   "name": "python3"
  },
  "language_info": {
   "codemirror_mode": {
    "name": "ipython",
    "version": 3
   },
   "file_extension": ".py",
   "mimetype": "text/x-python",
   "name": "python",
   "nbconvert_exporter": "python",
   "pygments_lexer": "ipython3",
   "version": "3.8.2"
  }
 },
 "nbformat": 4,
 "nbformat_minor": 5
}
