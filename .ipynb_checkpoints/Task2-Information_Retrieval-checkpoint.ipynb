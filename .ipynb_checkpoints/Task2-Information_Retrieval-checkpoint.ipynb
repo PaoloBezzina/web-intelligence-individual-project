{
 "cells": [
  {
   "cell_type": "markdown",
   "id": "happy-federation",
   "metadata": {},
   "source": [
    "# Task 2: Information Retrieval"
   ]
  },
  {
   "cell_type": "markdown",
   "id": "built-society",
   "metadata": {},
   "source": [
    "## Document Indexing"
   ]
  },
  {
   "cell_type": "markdown",
   "id": "driving-secondary",
   "metadata": {},
   "source": [
    "Importing all necessary libraries"
   ]
  },
  {
   "cell_type": "code",
   "execution_count": 1,
   "id": "expensive-battlefield",
   "metadata": {},
   "outputs": [],
   "source": [
    "import numpy as np\n",
    "import nltk\n",
    "from nltk.corpus import stopwords\n",
    "from nltk.stem import PorterStemmer \n",
    "from bs4 import BeautifulSoup as bs"
   ]
  },
  {
   "cell_type": "code",
   "execution_count": 2,
   "id": "italian-satellite",
   "metadata": {},
   "outputs": [],
   "source": [
    "def read_file(fileName):\n",
    "\n",
    "    content = []\n",
    "    with open(fileName, encoding=\"utf8\") as file:\n",
    "        # Read each line in the file, readlines() returns a list of lines\n",
    "        content = file.readlines()\n",
    "\n",
    "        # Combine the lines in the list into a string\n",
    "        content = \"\".join(content)\n",
    "        bs_content = bs(content, \"xml\")\n",
    "\n",
    "    #returns \"bs4.element.Tag\" object\n",
    "    result = bs_content.find(\"raw\")\n",
    "    #print(result.prettify())\n",
    "\n",
    "    return result"
   ]
  },
  {
   "cell_type": "code",
   "execution_count": 3,
   "id": "lined-butler",
   "metadata": {},
   "outputs": [],
   "source": [
    "#Changing from a bs4.element.Tag object to a String.\n",
    "def convert_Text(data):\n",
    "\n",
    "    text = data.get_text()\n",
    "    \n",
    "    #print(text)\n",
    "    return text"
   ]
  },
  {
   "cell_type": "code",
   "execution_count": 4,
   "id": "deluxe-zimbabwe",
   "metadata": {},
   "outputs": [],
   "source": [
    "def tokenize(data):\n",
    "    \n",
    "    tokens = nltk.word_tokenize(data)\n",
    "    \n",
    "    #print(tokens)\n",
    "    return tokens"
   ]
  },
  {
   "cell_type": "code",
   "execution_count": 5,
   "id": "motivated-zimbabwe",
   "metadata": {},
   "outputs": [],
   "source": [
    "def change_case(data):\n",
    "\n",
    "    for i in range(len(data)):\n",
    "        data[i] = data[i].casefold()\n",
    "\n",
    "    #print(data)\n",
    "    return data"
   ]
  },
  {
   "cell_type": "code",
   "execution_count": 6,
   "id": "electrical-correspondence",
   "metadata": {},
   "outputs": [],
   "source": [
    "def remove_stop_words(data):\n",
    "    \n",
    "    stop_words = set(stopwords.words('english'))\n",
    "\n",
    "    filtered_list = []\n",
    "\n",
    "    for word in data: \n",
    "        if word not in stop_words:\n",
    "            filtered_list.append(word)\n",
    "\n",
    "    #print(filtered_list)\n",
    "    return filtered_list"
   ]
  },
  {
   "cell_type": "code",
   "execution_count": 7,
   "id": "middle-leonard",
   "metadata": {},
   "outputs": [],
   "source": [
    "def stemming(data):\n",
    "    \n",
    "    ps = PorterStemmer() \n",
    "\n",
    "    for i in range(len(data)):\n",
    "        data[i] = ps.stem(data[i])\n",
    "\n",
    "    #print(data)\n",
    "    return data"
   ]
  },
  {
   "cell_type": "code",
   "execution_count": 8,
   "id": "random-interstate",
   "metadata": {},
   "outputs": [],
   "source": [
    "def remove_symbols(data):\n",
    "    \n",
    "    temp = []\n",
    "\n",
    "    symbols = \"“!\\\"#$€%&()*'+-,./:;<=>?@[\\]^_`{|}~\\n\"\n",
    "    for t in data:\n",
    "        if t not in symbols:\n",
    "            temp.append(t)\n",
    "            \n",
    "    #print(temp)\n",
    "    return temp"
   ]
  },
  {
   "cell_type": "code",
   "execution_count": 9,
   "id": "stunning-circular",
   "metadata": {},
   "outputs": [],
   "source": [
    "def preprocessing(filename):\n",
    "    data = read_file(filename)\n",
    "    data = convert_Text(data)\n",
    "    data = tokenize(data)\n",
    "    data = change_case(data)\n",
    "    data = remove_stop_words(data)\n",
    "    data = stemming(data)\n",
    "    data = remove_symbols(data)\n",
    "    \n",
    "    print(\"Finished PreProcessing:\")\n",
    "    print(data)"
   ]
  },
  {
   "cell_type": "code",
   "execution_count": 10,
   "id": "lonely-advocate",
   "metadata": {},
   "outputs": [
    {
     "name": "stdout",
     "output_type": "stream",
     "text": [
      "Finished PreProcessing:\n",
      "['william', 'higinbotham', 'tenni', 'two', 'tenni', 'two', 'play', 'oscilloscop', 'octob', '25', '1910', 'us-american', 'physicist', 'william', 'willi', '”', 'a.', 'higinbotham', 'born', 'member', 'manhattan', 'project', 'later', 'becam', 'leader', 'nonprolifer', 'movement', 'nuclear', 'weapon', 'moreov', 'also', 'known', 'develop', '‘', 'tenni', 'two', '‘', 'first', 'interact', 'analog', 'comput', 'game', 'one', 'first', 'electron', 'game', 'use', 'graphic', 'display', 'william', 'alfr', 'higinbotham', 'born', 'bridgeport', 'connecticut', 'grew', 'caledonia', 'new', 'york', 'father', 'minist', 'presbyterian', 'church', 'earn', 'undergradu', 'degre', 'william', 'colleg', '1932', 'continu', 'studi', 'cornel', 'univers', 'work', 'radar', 'system', 'mit', '1941', '1943', 'world', 'war', 'ii', 'work', 'lo', 'alamo', 'nation', 'laboratori', 'head', 'lab', '’', 'electron', 'group', 'later', 'year', 'war', 'team', 'develop', 'electron', 'first', 'nuclear', 'bomb', 'team', 'creat', 'bomb', '’', 'ignit', 'mechan', 'well', 'measur', 'instrument', 'devic', 'higinbotham', 'also', 'creat', 'radar', 'display', 'experiment', 'b-28', 'bomber', 'follow', 'experi', 'nuclear', 'weapon', 'higinbotham', 'help', 'found', 'nuclear', 'nonprolifer', 'group', 'feder', 'american', 'scientist', 'serv', 'first', 'chairman', 'execut', 'secretari', '1974', 'death', '1994', 'higinbotham', 'serv', 'technic', 'editor', 'journal', 'nuclear', 'materi', 'manag', 'histori', 'video', 'game', 'date', 'back', 'time', 'directli', 'world', 'war', '2', '1947', 'higinbotham', 'took', 'posit', 'brookhaven', 'nation', 'laboratori', 'work', 'retir', '1984', '1958', 'higinbotham', 'creat', 'tenni', 'two', 'cure', 'boredom', 'visitor', 'brookhaven', 'nation', 'laboratori', 'learn', 'one', 'brookhaven', '‘', 'comput', 'could', 'calcul', 'ballist', 'missil', 'trajectori', 'use', 'abil', 'form', 'game', '’', 'foundat', 'game', 'creat', 'donner', 'model', '30', 'analog', 'comput', 'game', 'use', 'oscilloscop', 'graphic', 'display', 'display', 'path', 'simul', 'ball', 'tenni', 'court', 'design', 'circuit', 'display', 'path', 'ball', 'revers', 'path', 'hit', 'ground', 'circuit', 'also', 'sens', 'ball', 'hit', 'net', 'simul', 'veloc', 'drag', 'user', 'could', 'interact', 'ball', 'use', 'analog', 'aluminum', 'control', 'click', 'button', 'hit', 'ball', 'use', 'knob', 'control', 'angl', 'hit', 'ball', 'also', 'emit', 'sound', 'devic', 'design', 'two', 'hour', 'assembl', 'within', 'three', 'week', 'help', 'robert', 'v.', 'dvorak', 'fact', 'game', 'first', 'shown', 'octob', '18', '1958', 'hundr', 'visitor', 'line', 'play', 'new', 'game', 'debut', 'hit', 'higinbotham', 'creat', 'expand', 'version', '1959', 'exposit', '3', 'higinbotham', 'remain', 'littl', 'interest', 'video', 'game', 'prefer', 'rememb', 'work', 'nuclear', 'nonprolifer', 'yovisto', 'see', 'origin', 'version', 'tenni', 'two']\n",
      "Finished PreProcessing:\n",
      "['victor', 'franz', 'hess', 'cosmic', 'radiat', 'hess', 'back', 'balloon', 'flight', 'august', '1912', 'august', '7', '1912', 'austrian', 'physicist', 'victor', 'franz', 'hess', 'provid', 'evid', 'high-altitud', 'radiat', 'one', 'balloon', 'ride', 'later', 'call', 'cosmic', 'radiat', 'togeth', 'carl', 'anderson', 'receiv', '1936', 'nobel', 'prize', 'physic', 'discoveri', 'cosmic', 'radiat', 'victor', 'franz', 'hess', 'educ', 'graz', 'austria', 'attend', 'grammar', 'school', 'univers', 'graz', 'physic', 'institut', 'vienna', 'hess', 'work', 'field', 'radioact', 'support', 'professor', 'von', 'schweidler', 'activ', 'institut', 'radium', 'research', 'viennes', 'academi', 'scienc', '1910', '1920', 'appoint', 'extraordinari', 'professor', 'experiment', 'physic', 'graz', 'univers', 'discoveri', 'cosmic', 'radiat', '1', 'back', 'scientist', 'wonder', 'air', 'electroscopes-instru', 'detect', 'electr', 'charg', 'becam', 'electr', 'charg', 'matter', 'well', 'contain', 'insul', 'first', 'believ', 'radioact', 'ground', 'miner', 'respons', 'effect', 'would', 'diminish', 'height', '300', 'meter', 'german', 'physicist', 'theodor', 'wulf', 'measur', 'around', '1910', 'ioniz', 'bottom', 'eiffel', 'tower', 'remark', 'higher', 'ioniz', 'top', 'hess', 'specul', 'sourc', 'ioniz', 'could', 'locat', 'sky', 'rather', 'ground', '2', 'first', 'hess', 'determin', '500m', 'possibl', 'height', 'ground', 'radiat', 'would', 'stop', 'produc', 'ioniz', 'start', 'design', 'instrument', 'could', 'damag', 'temperatur', 'pressur', 'chang', 'scientist', 'made', 'ten', 'ascent', 'balloon', '1911', '1913', 'found', 'ioniz', 'soon', 'ceas', 'fall', 'height', 'began', 'increas', 'rapidli', 'height', 'sever', 'mile', 'ioniz', 'time', 'greater', 'earth', '’', 'surfac', 'conclud', 'therefor', 'radiat', 'high', 'penetr', 'power', 'enter', 'atmospher', 'april', '12', '1912', 'hess', 'made', 'ascent', 'almost', 'total', 'eclips', 'sun', 'conclud', 'sinc', 'ioniz', 'decreas', 'eclips', 'sun', 'could', 'main', 'sourc', 'radiat', 'hess', '’', 'theori', 'ray', 'space', 'receiv', 'gener', 'accept', 'time', 'propos', 'howev', 'find', 'support', 'robert', 'andrew', 'millikan', '1925', 'also', 'name', 'phenomenon', 'cosmic', 'ray', 'research', 'topic', 'particl', 'nuclear', 'physic', 'establish', 'carl', 'david', 'anderson', 'discov', 'positron', 'muon', 'cosmic', 'ray', 'receiv', 'nobel', 'prize', 'physic', 'along', 'victor', 'franz', 'hess', '1936', '2', 'yovisto', 'may', 'learn', 'cosmic', 'radiat', '–', 'showstopp', 'space', 'explor', '”', 'lectur', 'marco', 'durant']\n"
     ]
    }
   ],
   "source": [
    "preprocessing(\"docs-raw-texts/wes2015.d028.naf\")\n",
    "preprocessing(\"docs-raw-texts/wes2015.d082.naf\")"
   ]
  }
 ],
 "metadata": {
  "kernelspec": {
   "display_name": "Python 3",
   "language": "python",
   "name": "python3"
  },
  "language_info": {
   "codemirror_mode": {
    "name": "ipython",
    "version": 3
   },
   "file_extension": ".py",
   "mimetype": "text/x-python",
   "name": "python",
   "nbconvert_exporter": "python",
   "pygments_lexer": "ipython3",
   "version": "3.8.2"
  }
 },
 "nbformat": 4,
 "nbformat_minor": 5
}
