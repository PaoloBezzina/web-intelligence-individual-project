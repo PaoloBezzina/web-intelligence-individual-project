{
 "cells": [
  {
   "cell_type": "markdown",
   "id": "clean-medium",
   "metadata": {},
   "source": [
    "# Task 2: Information Retrieval"
   ]
  },
  {
   "cell_type": "markdown",
   "id": "alike-negative",
   "metadata": {},
   "source": [
    "## Document Indexing"
   ]
  },
  {
   "cell_type": "markdown",
   "id": "important-cemetery",
   "metadata": {},
   "source": [
    "Importing all necessary libraries"
   ]
  },
  {
   "cell_type": "code",
   "execution_count": 1,
   "id": "corrected-electricity",
   "metadata": {},
   "outputs": [],
   "source": [
    "import numpy as np\n",
    "import nltk\n",
    "from nltk.corpus import stopwords\n",
    "from nltk.stem import PorterStemmer \n",
    "from bs4 import BeautifulSoup as bs"
   ]
  },
  {
   "cell_type": "markdown",
   "id": "loaded-mozambique",
   "metadata": {},
   "source": [
    "Reading contents of the XML file."
   ]
  },
  {
   "cell_type": "code",
   "execution_count": 2,
   "id": "innovative-information",
   "metadata": {},
   "outputs": [],
   "source": [
    "def read_file(file):\n",
    "\n",
    "    content = []\n",
    "    with open(file, \"r\") as file:\n",
    "        # Read each line in the file, readlines() returns a list of lines\n",
    "        content = file.readlines()\n",
    "\n",
    "        # Combine the lines in the list into a string\n",
    "        content = \"\".join(content)\n",
    "        bs_content = bs(content, \"xml\")\n",
    "\n",
    "    #returns \"bs4.element.Tag\" object\n",
    "    result = bs_content.find(\"raw\")\n",
    "    #print(result.prettify())\n",
    "\n",
    "    return result"
   ]
  },
  {
   "cell_type": "markdown",
   "id": "removable-faith",
   "metadata": {},
   "source": [
    "Changing from a bs4.element.Tag object to a String."
   ]
  },
  {
   "cell_type": "code",
   "execution_count": 3,
   "id": "spanish-courage",
   "metadata": {},
   "outputs": [],
   "source": [
    "def convert_Text(data):\n",
    "\n",
    "    text = data.get_text()\n",
    "    \n",
    "    #print(text)\n",
    "    return text"
   ]
  },
  {
   "cell_type": "code",
   "execution_count": 4,
   "id": "seasonal-portsmouth",
   "metadata": {},
   "outputs": [],
   "source": [
    "def tokenize(data):\n",
    "    \n",
    "    tokens = nltk.word_tokenize(data)\n",
    "    \n",
    "    #print(tokens)\n",
    "    return tokens"
   ]
  },
  {
   "cell_type": "markdown",
   "id": "waiting-blond",
   "metadata": {},
   "source": [
    "Processing the contents by case-folding, stop-word removal and stemming."
   ]
  },
  {
   "cell_type": "code",
   "execution_count": 5,
   "id": "european-gothic",
   "metadata": {},
   "outputs": [],
   "source": [
    "def change_case(data):\n",
    "\n",
    "    for i in range(len(data)):\n",
    "        data[i] = data[i].casefold()\n",
    "\n",
    "    #print(data)\n",
    "    return data"
   ]
  },
  {
   "cell_type": "code",
   "execution_count": 6,
   "id": "floppy-morgan",
   "metadata": {},
   "outputs": [],
   "source": [
    "def remove_stop_words(data):\n",
    "    \n",
    "    stop_words = set(stopwords.words('english'))\n",
    "\n",
    "    filtered_list = []\n",
    "\n",
    "    for word in data: \n",
    "        if word not in stop_words:\n",
    "            filtered_list.append(word)\n",
    "\n",
    "    #print(filtered_list)\n",
    "    return filtered_list"
   ]
  },
  {
   "cell_type": "code",
   "execution_count": 7,
   "id": "structured-ebony",
   "metadata": {},
   "outputs": [],
   "source": [
    "def stemming(data):\n",
    "    \n",
    "    ps = PorterStemmer() \n",
    "\n",
    "    for i in range(len(data)):\n",
    "        data[i] = ps.stem(data[i])\n",
    "\n",
    "    #print(data)\n",
    "    return data"
   ]
  },
  {
   "cell_type": "markdown",
   "id": "practical-produce",
   "metadata": {},
   "source": [
    "Removing any symbols"
   ]
  },
  {
   "cell_type": "code",
   "execution_count": 8,
   "id": "developing-floating",
   "metadata": {},
   "outputs": [],
   "source": [
    "def remove_symbols(data):\n",
    "    \n",
    "    temp = []\n",
    "\n",
    "    symbols = \"“!\\\"#$€%&()*'+-,./:;<=>?@[\\]^_`{|}~\\n\"\n",
    "    for t in data:\n",
    "        if t not in symbols:\n",
    "            temp.append(t)\n",
    "            \n",
    "    #print(temp)\n",
    "    return temp"
   ]
  },
  {
   "cell_type": "code",
   "execution_count": 9,
   "id": "banned-noise",
   "metadata": {},
   "outputs": [],
   "source": [
    "def preprocessing(filename):\n",
    "    data = read_file(filename)\n",
    "    data = convert_Text(data)\n",
    "    data = tokenize(data)\n",
    "    data = change_case(data)\n",
    "    data = remove_stop_words(data)\n",
    "    data = stemming(data)\n",
    "    data = remove_symbols(data)\n",
    "    \n",
    "    print(\"Finished PreProcessing:\")\n",
    "    print(data)\n",
    "    "
   ]
  },
  {
   "cell_type": "code",
   "execution_count": 10,
   "id": "black-proposal",
   "metadata": {},
   "outputs": [
    {
     "name": "stdout",
     "output_type": "stream",
     "text": [
      "Finished PreProcessing:\n",
      "['oskar', 'barnack', 'â€', 'father', '35mm', 'photographi', 'oskar', 'barnack', '1879-1936', 'novemb', '1', '1879', 'german', 'optic', 'engin', 'precis', 'mechan', 'industri', 'design', 'oskar', 'barnack', 'born', 'often', 'refer', 'father', '35', 'mm', 'photographi', 'invent', 'first', 'miniatur', 'commerci', 'success', 'camera', 'leica', 'age', 'digit', 'photographi', 'someth', 'like', '35', 'mm', 'film', 'might', 'seem', 'like', 'forgotten', 'relict', 'realli', 'revolut', 'brought', 'photographi', 'mass', 'â€', 'way', 'invent', 'theâ', 'film', 'roll', 'applic', 'famou', 'kodak', 'box', 'camera', 'almost', '50', 'year', 'earlier', 'actual', 'littl', 'known', 'privat', 'life', 'oskar', 'barnack', 'known', 'inform', 'life', 'concern', 'creation', 'born', 'lynow', 'brandenburg', 'hamlet', 'south', 'berlin', 'â', 'barnack', 'master', 'mechan', 'inventor', 'work', 'carl', 'zeiss', 'compani', 'receiv', 'offer', 'join', 'ernst', 'leitz', 'optisch', 'werk', 'wetzlar', '1911', 'charg', 'microscop', 'research', 'ernst', 'leitz', 'wetzlar', 'hessen', 'germani', 'head', 'construct', 'depart', 'enthusiast', 'photograph', 'heavi', 'equip', 'day', 'difficult', 'handl', 'due', 'poor', 'health', 'thu', 'sought', 'reduc', 'size', 'weight', 'ofâ', 'camera', 'support', 'equip', 'use', 'outdoor', 'photographi', 'earli', '1905', 'idea', 'reduc', 'format', 'neg', 'enlarg', 'theâ', 'photograph', 'expos', 'involv', 'small', 'camera', 'enlarger.in', '1912', 'construct', 'alreadi', 'aâ', '35', 'mm', 'movi', 'camera', '1913', '1914', 'develop', 'ur-leica', 'prototyp', 'camera', 'use', '35mm', 'motion', 'pictur', 'film', 'start', 'film', 'transport', 'horizont', 'vertic', 'case', 'movi', 'camera', 'format', '24ã—36mm', 'format', 'weâ€™v', 'accustom', 'obtain', 'doubl', 'normal', 'movie-imag', 'time', 'camera', 'equip', 'glass', 'plate', 'roll', 'film', 'cumbersom', 'larg', 'neg', 'elimin', 'need', 'enlarg', 'lens', 'film', 'reach', 'level', 'reduc', 'qualiti', 'get', 'print', 'enlarg', '2', 'instead', 'exposur', 'plate', 'use', 'pastâ', 'leitz', 'camera', 'leica', 'use', 'standard', 'film', 'strip', 'adapt', '35', 'mm', 'eastman', 'kodak', 'roll-film', 'barnack', 'decid', '18', 'x', '24', 'mm', '3:4', 'aspect', 'ratio', 'standard', 'movi', 'frame', 'larg', 'enough', 'good', 'still', 'photo', 'qualiti', 'film', 'day', 'doubl', 'frame', 'size', '24', 'x', '36', 'mm', '2:3', 'aspect', 'ratio', 'imag', 'horizont', 'instead', 'vertic', 'anoth', 'leitz', 'employe', 'max', 'berek', 'instrument', 'develop', 'len', 'camera', 'develop', 'first', '50mm', 'f/3.5', 'len', 'optimum', 'focal', 'length', '24', 'x', '36mm', 'format', 'â€˜originalâ€™', 'leica', '1914', '35', 'mm', 'design', 'help', 'introduc', 'concept', 'expos', 'small', 'area', 'film', 'creat', 'neg', 'enlarg', 'imag', 'darkroom', 'onset', 'world', 'war', 'iâ', 'kept', 'first', 'leica', 'manufactur', '1924', 'introduc', 'public', '1925', 'leicaâ€™', 'chief', 'optician', 'ernst', 'leitz', 'took', 'gambl', 'author', 'product', '1,000', 'camera', 'despit', 'contemporari', 'success', 'earli', '35mm', 'camera', 'model', 'earli', 'leica', 'becam', 'influenti', '35mm', 'camera', 'mani', 'camera', 'maker', 'start', '35mm', 'camera', 'busi', 'simpli', 'copi', 'origin', 'leica', 'model', 'often', 'disregard', 'legisl', 'product', 'piraci', 'renown', 'compani', 'learn', 'make', 'sophist', 'camera', 'mechan', 'way', 'switch', 'later', 'product', '35mm', 'camera', 'construct', '2', 'barnackâ€™', 'invent', 'chang', 'photographi', 'significantli', 'leica', 'extrem', 'compact', 'could', 'fit', 'high', 'qualiti', 'len', 'enabl', 'photograph', 'work', 'ordinari', 'outdoor', 'set', 'avail', 'light', 'alway', 'instantli', 'readi', 'captur', 'life', 'action', 'effortlessli', 'angl', 'photograph', 'often', 'abl', 'remain', 'unnot', 'without', 'usual', 'heavi', 'equip', 'photograph', 'peopl', 'longer', 'confin', 'stiff', 'convent', 'artist', 'pose', '3', 'eleven', 'year', 'introduct', '1935', 'camera', 'enlarg', 'section', 'profit', 'leitz', 'compani', 'still', 'produc', 'microscop', 'huntingscop', 'yovisto', 'learn', 'histori', 'photographi', 'present', 'nanci', 'crandal', 'origin', 'begin', 'photographi']\n"
     ]
    }
   ],
   "source": [
    "preprocessing(\"docs-raw-texts/wes2015.d021.naf\")"
   ]
  }
 ],
 "metadata": {
  "kernelspec": {
   "display_name": "Python 3",
   "language": "python",
   "name": "python3"
  },
  "language_info": {
   "codemirror_mode": {
    "name": "ipython",
    "version": 3
   },
   "file_extension": ".py",
   "mimetype": "text/x-python",
   "name": "python",
   "nbconvert_exporter": "python",
   "pygments_lexer": "ipython3",
   "version": "3.8.2"
  }
 },
 "nbformat": 4,
 "nbformat_minor": 5
}
