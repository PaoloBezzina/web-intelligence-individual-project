{
 "cells": [
  {
   "cell_type": "code",
   "execution_count": 1,
   "id": "unexpected-cancellation",
   "metadata": {},
   "outputs": [],
   "source": [
    "import csv\n",
    "import re\n",
    "import numpy as np\n",
    "import networkx as nx\n",
    "import matplotlib.pyplot as plt"
   ]
  },
  {
   "cell_type": "code",
   "execution_count": 2,
   "id": "stable-identity",
   "metadata": {},
   "outputs": [],
   "source": [
    "class tweet:\n",
    "  def __init__(self, t):\n",
    "    self.timestamp = t[0]\n",
    "    self.author = t[1]\n",
    "    self.content = t[2]"
   ]
  },
  {
   "cell_type": "code",
   "execution_count": 3,
   "id": "hindu-plant",
   "metadata": {},
   "outputs": [],
   "source": [
    "with open(\"twitter.tsv\", encoding=\"utf8\") as fd:\n",
    "    \n",
    "    tweets = []\n",
    "    rd = csv.reader(fd, delimiter=\"\\t\", quotechar='\"')\n",
    "    counter = 0\n",
    "    for row in rd:\n",
    "        tweets.append(tweet(row))\n",
    "        if (counter >= 30):\n",
    "            break\n",
    "        counter +=1"
   ]
  },
  {
   "cell_type": "code",
   "execution_count": 4,
   "id": "authorized-boring",
   "metadata": {},
   "outputs": [],
   "source": [
    "edges = {}\n",
    "\n",
    "for t in tweets:\n",
    "    if \"@\" in t.content:\n",
    "        mentioned = re.findall(\"@(\\w+)\",t.content)\n",
    "        for m in mentioned:\n",
    "            key = tuple([t.author, m])\n",
    "            if key in edges.keys():\n",
    "                edges[key] += 1\n",
    "            else:\n",
    "                edges[key] = 1"
   ]
  },
  {
   "cell_type": "code",
   "execution_count": 5,
   "id": "lined-newman",
   "metadata": {},
   "outputs": [
    {
     "name": "stdout",
     "output_type": "stream",
     "text": [
      "{('cameron987', 'beatrizchavez'): 1, ('kshepherd', 'blakespot'): 1, ('kshepherd', 'arnoldkim'): 1, ('phatemokid', 'kerotab'): 1, ('mstg0901', 'iphonefan'): 1, ('tiffrocking', 'silvermullet'): 1, ('jetforme', 'flyingjenny'): 1, ('jetforme', 'absolutspacegrl'): 1, ('unixjanitor', 'ryanbarr'): 1}\n"
     ]
    },
    {
     "data": {
      "image/png": "[encoded data removed]",
      "text/plain": [
       "<Figure size 432x288 with 1 Axes>"
      ]
     },
     "metadata": {},
     "output_type": "display_data"
    }
   ],
   "source": [
    "print(edges)\n",
    "\n",
    "G = nx.DiGraph()\n",
    "\n",
    "#for k in edges.keys():\n",
    "    #G.add_nodes_from(k)\n",
    "\n",
    "for k, v in edges:\n",
    "    #print(\"\")\n",
    "    #print(k)\n",
    "    #print(v)\n",
    "    #print(edges[(k,v)])\n",
    "    G.add_edge(k, v, weight=edges[(k,v)])\n",
    "    \n",
    "#G.edges()\n",
    "weights = [G[u][v]['weight'] for u,v in edges]\n",
    "nx.draw(G, with_labels=True, node_size=60,font_size=10, width=weights)\n",
    "plt.show()"
   ]
  },
  {
   "cell_type": "markdown",
   "id": "combined-clerk",
   "metadata": {},
   "source": [
    "## Statistics for the graph"
   ]
  },
  {
   "cell_type": "markdown",
   "id": "right-vanilla",
   "metadata": {},
   "source": [
    "Getting the number of nodes in the graph"
   ]
  },
  {
   "cell_type": "code",
   "execution_count": 6,
   "id": "thorough-moisture",
   "metadata": {},
   "outputs": [],
   "source": [
    "numberOfNodes = G.number_of_nodes()"
   ]
  },
  {
   "cell_type": "markdown",
   "id": "saved-venture",
   "metadata": {},
   "source": [
    "Getting the number of edges in the graph"
   ]
  },
  {
   "cell_type": "code",
   "execution_count": 7,
   "id": "annual-click",
   "metadata": {},
   "outputs": [],
   "source": [
    "numberOfEdges = G.number_of_edges()"
   ]
  },
  {
   "cell_type": "code",
   "execution_count": 8,
   "id": "racial-blind",
   "metadata": {},
   "outputs": [],
   "source": [
    "#indegree\n",
    "inDegree = G.in_degree()"
   ]
  },
  {
   "cell_type": "code",
   "execution_count": 9,
   "id": "logical-miami",
   "metadata": {},
   "outputs": [],
   "source": [
    "#outdegree\n",
    "outDegree = G.out_degree()"
   ]
  },
  {
   "cell_type": "code",
   "execution_count": 10,
   "id": "known-worst",
   "metadata": {},
   "outputs": [
    {
     "data": {
      "image/png": "[encoded data removed]",
      "text/plain": [
       "<Figure size 432x288 with 1 Axes>"
      ]
     },
     "metadata": {
      "needs_background": "light"
     },
     "output_type": "display_data"
    }
   ],
   "source": [
    "#degree distribution\n",
    "degrees = [G.degree(n) for n in G.nodes()]\n",
    "plt.hist(degrees)\n",
    "plt.show()"
   ]
  },
  {
   "cell_type": "code",
   "execution_count": 11,
   "id": "outside-perception",
   "metadata": {},
   "outputs": [],
   "source": [
    "#average path length\n",
    "#averagePathLength = nx.average_shortest_path_length(G)"
   ]
  },
  {
   "cell_type": "code",
   "execution_count": 12,
   "id": "substantial-offense",
   "metadata": {},
   "outputs": [],
   "source": [
    "#global clustering coeefficient"
   ]
  },
  {
   "cell_type": "markdown",
   "id": "immediate-natural",
   "metadata": {},
   "source": [
    "Printing Statistics"
   ]
  },
  {
   "cell_type": "code",
   "execution_count": 13,
   "id": "missing-rehabilitation",
   "metadata": {},
   "outputs": [
    {
     "name": "stdout",
     "output_type": "stream",
     "text": [
      "Number Of Nodes:  16\n",
      "Number Of Edges:  9\n",
      "In Degree:  [('cameron987', 0), ('beatrizchavez', 1), ('kshepherd', 0), ('blakespot', 1), ('arnoldkim', 1), ('phatemokid', 0), ('kerotab', 1), ('mstg0901', 0), ('iphonefan', 1), ('tiffrocking', 0), ('silvermullet', 1), ('jetforme', 0), ('flyingjenny', 1), ('absolutspacegrl', 1), ('unixjanitor', 0), ('ryanbarr', 1)]\n",
      "Out Degree:  [('cameron987', 1), ('beatrizchavez', 0), ('kshepherd', 2), ('blakespot', 0), ('arnoldkim', 0), ('phatemokid', 1), ('kerotab', 0), ('mstg0901', 1), ('iphonefan', 0), ('tiffrocking', 1), ('silvermullet', 0), ('jetforme', 2), ('flyingjenny', 0), ('absolutspacegrl', 0), ('unixjanitor', 1), ('ryanbarr', 0)]\n"
     ]
    }
   ],
   "source": [
    "print(\"Number Of Nodes: \", numberOfNodes)\n",
    "print(\"Number Of Edges: \", numberOfEdges)\n",
    "print(\"In Degree: \", inDegree)\n",
    "print(\"Out Degree: \", outDegree)"
   ]
  },
  {
   "cell_type": "markdown",
   "id": "phantom-retirement",
   "metadata": {},
   "source": [
    "## Challenges that you might have encountered when parsing and cleaning the data and when creating the graph, and how you solved them. Discuss as well any decisions that you might have made."
   ]
  }
 ],
 "metadata": {
  "kernelspec": {
   "display_name": "Python 3",
   "language": "python",
   "name": "python3"
  },
  "language_info": {
   "codemirror_mode": {
    "name": "ipython",
    "version": 3
   },
   "file_extension": ".py",
   "mimetype": "text/x-python",
   "name": "python",
   "nbconvert_exporter": "python",
   "pygments_lexer": "ipython3",
   "version": "3.8.2"
  }
 },
 "nbformat": 4,
 "nbformat_minor": 5
}
