{
 "cells": [
  {
   "cell_type": "markdown",
   "id": "collect-election",
   "metadata": {},
   "source": [
    "# Task 1: Graph Analytics"
   ]
  },
  {
   "cell_type": "markdown",
   "id": "apart-forth",
   "metadata": {},
   "source": [
    "## Extracting mention Graph"
   ]
  },
  {
   "cell_type": "markdown",
   "id": "civil-typing",
   "metadata": {},
   "source": [
    "Importing all necessary libraries"
   ]
  },
  {
   "cell_type": "code",
   "execution_count": 1,
   "id": "black-botswana",
   "metadata": {},
   "outputs": [],
   "source": [
    "import csv\n",
    "import re\n",
    "import collections\n",
    "import operator\n",
    "import numpy as np\n",
    "import networkx as nx\n",
    "import matplotlib.pyplot as plt"
   ]
  },
  {
   "cell_type": "markdown",
   "id": "macro-polls",
   "metadata": {},
   "source": [
    "A tweet object which contains the data extracted from the Twitter data"
   ]
  },
  {
   "cell_type": "code",
   "execution_count": 2,
   "id": "published-balloon",
   "metadata": {},
   "outputs": [],
   "source": [
    "class tweet:\n",
    "  def __init__(self, t):\n",
    "    self.timestamp = t[0]\n",
    "    self.author = t[1]\n",
    "    self.content = t[2]"
   ]
  },
  {
   "cell_type": "markdown",
   "id": "sweet-marble",
   "metadata": {},
   "source": [
    "Creating the dataset of tweets from the 'twitter.tsv' file. The .tsv file was read using the csv library, which also accepts tab seperated values."
   ]
  },
  {
   "cell_type": "code",
   "execution_count": 3,
   "id": "orange-death",
   "metadata": {},
   "outputs": [],
   "source": [
    "with open(\"twitter.tsv\", encoding=\"utf8\") as fd:\n",
    "    \n",
    "    tweets = []\n",
    "    rd = csv.reader(fd, delimiter=\"\\t\", quotechar='\"')\n",
    "\n",
    "    for row in rd:\n",
    "        tweets.append(tweet(row))"
   ]
  },
  {
   "cell_type": "markdown",
   "id": "nearby-enlargement",
   "metadata": {},
   "source": [
    "Creating a dictionary of edges. Using a dictionary gives us the ability to set a key pair and a corresponding value. This is useful because we can use the author of the tweet and the user mentioned as the key with the number of times mentioned as the value. This is important because the number of mentions is used as the weights on the edges of the graph.\n",
    "\n",
    "By using regex, we can extract just the user's alias without the extra @ symbol or any other characters. If a new (author, mentioned)key is found, it is added to the dictionary. If an existing (author, mentioned)key is found, the value is incremented instead. By iterating through only the tweets which contain an '@', it reduces running time and power."
   ]
  },
  {
   "cell_type": "code",
   "execution_count": 4,
   "id": "entire-trigger",
   "metadata": {},
   "outputs": [],
   "source": [
    "edges = {}\n",
    "\n",
    "for t in tweets:\n",
    "    if \"@\" in t.content:\n",
    "        mentioned = re.findall(\"@(\\w+)\",t.content)\n",
    "        for m in mentioned:\n",
    "            key = tuple([t.author, m])\n",
    "            if key in edges.keys():\n",
    "                edges[key] += 1\n",
    "            else:\n",
    "                edges[key] = 1"
   ]
  },
  {
   "cell_type": "markdown",
   "id": "descending-edwards",
   "metadata": {},
   "source": [
    "Creating a Directed Graph using the edges found above. It is important to have a directed graph since user1 mentioning user2 does not mean that user2 mentioned user1."
   ]
  },
  {
   "cell_type": "code",
   "execution_count": 5,
   "id": "accessible-filing",
   "metadata": {},
   "outputs": [],
   "source": [
    "G = nx.DiGraph()\n",
    "\n",
    "for k, v in edges:\n",
    "    G.add_edge(k, v, weight=edges[(k,v)])\n",
    "    \n",
    "# Draw Full Graph\n",
    "#weights = [G[u][v]['weight'] for u,v in edges]\n",
    "#nx.draw(G, with_labels=True, node_size=60,font_size=10, width=weights)\n",
    "#plt.show()"
   ]
  },
  {
   "cell_type": "markdown",
   "id": "indonesian-drill",
   "metadata": {},
   "source": [
    "Creates a subgraph of the largest weakly connected component."
   ]
  },
  {
   "cell_type": "code",
   "execution_count": 6,
   "id": "impressive-bulgaria",
   "metadata": {},
   "outputs": [],
   "source": [
    "largest_cc = max(nx.weakly_connected_components(G), key=len)\n",
    "SG = G.subgraph(largest_cc)"
   ]
  },
  {
   "cell_type": "markdown",
   "id": "comparative-burns",
   "metadata": {},
   "source": [
    "## Statistics for the graph"
   ]
  },
  {
   "cell_type": "markdown",
   "id": "residential-ridge",
   "metadata": {},
   "source": [
    "#### Number Of Nodes\n",
    "Getting the number of nodes in the graph"
   ]
  },
  {
   "cell_type": "code",
   "execution_count": 7,
   "id": "super-majority",
   "metadata": {},
   "outputs": [],
   "source": [
    "numberOfNodes = G.number_of_nodes()"
   ]
  },
  {
   "cell_type": "markdown",
   "id": "material-tokyo",
   "metadata": {},
   "source": [
    "#### Number Of Edges\n",
    "Getting the number of edges in the graph"
   ]
  },
  {
   "cell_type": "code",
   "execution_count": 8,
   "id": "available-brother",
   "metadata": {},
   "outputs": [],
   "source": [
    "numberOfEdges = G.number_of_edges()"
   ]
  },
  {
   "cell_type": "markdown",
   "id": "executed-soundtrack",
   "metadata": {},
   "source": [
    "#### In-Degree\n",
    "Getting the number of vertices coming in to the node, from other connected nodes"
   ]
  },
  {
   "cell_type": "code",
   "execution_count": 9,
   "id": "desperate-attempt",
   "metadata": {},
   "outputs": [],
   "source": [
    "inDegree = G.in_degree()"
   ]
  },
  {
   "cell_type": "markdown",
   "id": "hourly-understanding",
   "metadata": {},
   "source": [
    "#### Out-Degree\n",
    "Getting the number of vertices going out of the node, to other connected nodes"
   ]
  },
  {
   "cell_type": "code",
   "execution_count": 10,
   "id": "stylish-million",
   "metadata": {},
   "outputs": [],
   "source": [
    "outDegree = G.out_degree()"
   ]
  },
  {
   "cell_type": "markdown",
   "id": "generous-norwegian",
   "metadata": {},
   "source": [
    "#### Degree Distribution\n",
    "The degree distribution is the probability distribution of the in and out degrees over the whole network"
   ]
  },
  {
   "cell_type": "markdown",
   "id": "associate-synthesis",
   "metadata": {},
   "source": [
    "##### Histogram\n",
    "By plotting the graph using a log scale, we would be able to distinguish the results better since the graph wouldnt be so squashed."
   ]
  },
  {
   "cell_type": "code",
   "execution_count": 11,
   "id": "approved-british",
   "metadata": {},
   "outputs": [
    {
     "data": {
      "image/png": "[encoded data removed]",
      "text/plain": [
       "<Figure size 432x288 with 1 Axes>"
      ]
     },
     "metadata": {
      "needs_background": "light"
     },
     "output_type": "display_data"
    }
   ],
   "source": [
    "plt.title(\"Degree Histogram\")\n",
    "plt.xlabel(\"Count\")\n",
    "plt.ylabel(\"Degree\")\n",
    "\n",
    "degrees = [G.degree(n) for n in G.nodes()]\n",
    "\n",
    "plt.hist(degrees,log='true')\n",
    "plt.show()"
   ]
  },
  {
   "cell_type": "markdown",
   "id": "turned-bathroom",
   "metadata": {},
   "source": [
    "##### Scatter Plot\n",
    "A scatter plot can give us a better indication as to how exactly the degree distribution is spread"
   ]
  },
  {
   "cell_type": "code",
   "execution_count": 12,
   "id": "velvet-baptist",
   "metadata": {},
   "outputs": [
    {
     "data": {
      "image/png": "[encoded data removed]",
      "text/plain": [
       "<Figure size 432x288 with 1 Axes>"
      ]
     },
     "metadata": {
      "needs_background": "light"
     },
     "output_type": "display_data"
    }
   ],
   "source": [
    "plt.title(\"Degree Scatter\")\n",
    "plt.xlabel(\"Rank\")\n",
    "plt.ylabel(\"Degree\")\n",
    "\n",
    "#creates a distribution of degrees\n",
    "degree=nx.degree_histogram(G)\n",
    "degree.sort(reverse=True)\n",
    "\n",
    "#Generate normalised values for y according to degree\n",
    "y=[z/float(sum(degree))for z in degree]\n",
    "\n",
    "#Generate X axis sequence, from 1 to maximum degree\n",
    "x=range(len(degree))\n",
    "plt.scatter(x,y,s=1,color=(1,0,0))\n",
    "\n",
    "plt.show()"
   ]
  },
  {
   "cell_type": "markdown",
   "id": "informational-typing",
   "metadata": {},
   "source": [
    "#### Average Path Length\n",
    "Average path length is the sum of path lengths between all pairs of nodes normalized by n*(n-1) where n is the number of nodes in G.\n",
    "Since this has to be worked out on a connected graph, the averagePathLength has to be calculated on the largest connected subgraph."
   ]
  },
  {
   "cell_type": "code",
   "execution_count": 13,
   "id": "technical-procurement",
   "metadata": {},
   "outputs": [],
   "source": [
    "averagePathLength = nx.average_shortest_path_length(SG)"
   ]
  },
  {
   "cell_type": "markdown",
   "id": "brief-advocate",
   "metadata": {},
   "source": [
    "#### Global Clustering Coeefficient\n",
    "The Global Clustering Coefficient is the number of closed triplets (triangles) over the total number of triplets (both open and closed). A triplet consists of three nodes connected with 2 edges c. A triangle includes three closed overlapping triplets, one centered on each of the nodes. "
   ]
  },
  {
   "cell_type": "code",
   "execution_count": 14,
   "id": "equivalent-commerce",
   "metadata": {},
   "outputs": [],
   "source": [
    "#The average clustering coefficient for the graph G\n",
    "clusteringCoeefficient = nx.average_clustering(G)"
   ]
  },
  {
   "cell_type": "code",
   "execution_count": 15,
   "id": "flexible-survivor",
   "metadata": {},
   "outputs": [],
   "source": [
    "#Compute graph transitivity, the fraction of all possible triangles present in G.\n",
    "transitivity = nx.transitivity(G)"
   ]
  },
  {
   "cell_type": "markdown",
   "id": "executed-creek",
   "metadata": {},
   "source": [
    "### Printing Statistics"
   ]
  },
  {
   "cell_type": "code",
   "execution_count": 16,
   "id": "romantic-vehicle",
   "metadata": {},
   "outputs": [
    {
     "name": "stdout",
     "output_type": "stream",
     "text": [
      "Number Of Nodes:  65760 \n",
      "\n",
      "Number Of Edges:  68839 \n",
      "\n",
      "Average Shortest Path Length (for largest connected graph):  0.013634224566790034 \n",
      "\n",
      "Clustering Coefficient:  0.020226636811185247 \n",
      "\n",
      "Transitivity:  0.01666282425331309 \n",
      "\n"
     ]
    }
   ],
   "source": [
    "print(\"Number Of Nodes: \", numberOfNodes, \"\\n\")\n",
    "print(\"Number Of Edges: \", numberOfEdges, \"\\n\")\n",
    "print(\"Average Shortest Path Length (for largest connected graph): \", averagePathLength, \"\\n\")\n",
    "print(\"Clustering Coefficient: \", clusteringCoeefficient, \"\\n\")\n",
    "print(\"Transitivity: \", transitivity, \"\\n\")\n",
    "#uncomment to show (commented since the gives a large output)\n",
    "#print(\"In Degree: \", inDegree, \"\\n\")\n",
    "#print(\"Out Degree: \", outDegree, \"\\n\")"
   ]
  },
  {
   "cell_type": "markdown",
   "id": "mediterranean-cuisine",
   "metadata": {},
   "source": [
    "From the results above we can conclude that the graph is not totally connected, however there is a giant component which conatains the majority of the connected nodes. The rest form smaller components. There are also some user with a very high in degree but have an out degree of nearly zero."
   ]
  },
  {
   "cell_type": "markdown",
   "id": "intense-bachelor",
   "metadata": {},
   "source": [
    "## Determining the Top 10 users"
   ]
  },
  {
   "cell_type": "markdown",
   "id": "following-crowd",
   "metadata": {},
   "source": [
    "Prints the keys and corresponding values from a dictionary"
   ]
  },
  {
   "cell_type": "code",
   "execution_count": 17,
   "id": "subject-quilt",
   "metadata": {},
   "outputs": [],
   "source": [
    "def printDict(d):\n",
    "    for key in d:\n",
    "        print(key, '\\t:\\t', d[key])"
   ]
  },
  {
   "cell_type": "markdown",
   "id": "presidential-syndrome",
   "metadata": {},
   "source": [
    "Prints the top 'n' number of users from a dictionary"
   ]
  },
  {
   "cell_type": "code",
   "execution_count": 18,
   "id": "allied-hunger",
   "metadata": {},
   "outputs": [],
   "source": [
    "def printTopN(d, n):\n",
    "    counter = 1\n",
    "    for key in d:\n",
    "        print(key, '\\t:\\t', d[key])\n",
    "        if (counter >= n):\n",
    "            break\n",
    "        counter +=1"
   ]
  },
  {
   "cell_type": "markdown",
   "id": "binding-lithuania",
   "metadata": {},
   "source": [
    "Sorts a dictionary according to the value in descending order"
   ]
  },
  {
   "cell_type": "code",
   "execution_count": 19,
   "id": "running-citizenship",
   "metadata": {},
   "outputs": [],
   "source": [
    "def sortDictDesc(d):\n",
    "    sorted_d = dict( sorted(d.items(), key=operator.itemgetter(1),reverse=True))\n",
    "    return sorted_d"
   ]
  },
  {
   "cell_type": "markdown",
   "id": "fatty-spanking",
   "metadata": {},
   "source": [
    "The degree centrality for a node v is the fraction of nodes it is connected to."
   ]
  },
  {
   "cell_type": "code",
   "execution_count": 20,
   "id": "directed-headset",
   "metadata": {},
   "outputs": [],
   "source": [
    "degreeCentrality = nx.degree_centrality(G)\n",
    "degreeCentrality = sortDictDesc(degreeCentrality)"
   ]
  },
  {
   "cell_type": "markdown",
   "id": "august-publication",
   "metadata": {},
   "source": [
    "Closeness centrality of a node u is the reciprocal of the sum of the shortest path distances from u to all n-1 other nodes."
   ]
  },
  {
   "cell_type": "code",
   "execution_count": 21,
   "id": "accurate-trader",
   "metadata": {},
   "outputs": [],
   "source": [
    "closenessCentrality = nx.closeness_centrality(G)\n",
    "closenessCentrality = sortDictDesc(closenessCentrality)"
   ]
  },
  {
   "cell_type": "markdown",
   "id": "abandoned-wallpaper",
   "metadata": {},
   "source": [
    "Betweenness centrality of a node v is the sum of the fraction of all-pairs shortest paths that pass through v"
   ]
  },
  {
   "cell_type": "code",
   "execution_count": 22,
   "id": "sensitive-tablet",
   "metadata": {},
   "outputs": [],
   "source": [
    "betweennessCentrality = nx.betweenness_centrality(G, normalized=True)\n",
    "betweennessCentrality = sortDictDesc(betweennessCentrality)"
   ]
  },
  {
   "cell_type": "code",
   "execution_count": 23,
   "id": "medieval-operations",
   "metadata": {},
   "outputs": [
    {
     "name": "stdout",
     "output_type": "stream",
     "text": [
      "Degree Centrality\n",
      "\n",
      "theiphoneblog \t:\t 0.037637433659270976\n",
      "ryanbarr \t:\t 0.0270989522346751\n",
      "mashable \t:\t 0.019191289405252512\n",
      "squarespace \t:\t 0.015572012956401406\n",
      "scottbourne \t:\t 0.015419942517374049\n",
      "ScanCafe \t:\t 0.015404735473471312\n",
      "iphone_dev \t:\t 0.013245335239282837\n",
      "tweetmeme \t:\t 0.011876701288036619\n",
      "TweetDeck \t:\t 0.009397953131890692\n",
      "kevinrose \t:\t 0.00783162760990891\n",
      "\n",
      "\n",
      "Closeness Centrality\n",
      "\n",
      "theiphoneblog \t:\t 0.027427802451198077\n",
      "ryanbarr \t:\t 0.026914331574782308\n",
      "mashable \t:\t 0.02663036318100742\n",
      "iphone_dev \t:\t 0.02255799832103937\n",
      "reneritchie \t:\t 0.0208254544501898\n",
      "MuscleNerd \t:\t 0.020822118432203253\n",
      "chrispirillo \t:\t 0.020199392874692457\n",
      "twittelator \t:\t 0.019479052477141254\n",
      "palmsolo \t:\t 0.01925193466205196\n",
      "backlon \t:\t 0.01921324516522264\n",
      "\n",
      "\n",
      "Betweenness Centrality\n",
      "\n",
      "theiphoneblog \t:\t 0.0004253726048982866\n",
      "filjedi \t:\t 0.0002926259536491623\n",
      "msproductions \t:\t 0.00029029017378310397\n",
      "lemonkey \t:\t 0.0002066224788538912\n",
      "dreadpiratepj \t:\t 0.00019356789904008073\n",
      "serban \t:\t 0.00019314523704854261\n",
      "iphonespaz \t:\t 0.00019188912230257968\n",
      "webaddict \t:\t 0.0001876675900566202\n",
      "johnbiggs \t:\t 0.00018355324575507683\n",
      "dgshaw \t:\t 0.00018180979394719454\n"
     ]
    }
   ],
   "source": [
    "print(\"Degree Centrality\\n\")\n",
    "printTopN(degreeCentrality, 10)\n",
    "print(\"\\n\\nCloseness Centrality\\n\")\n",
    "printTopN(closenessCentrality, 10)\n",
    "print(\"\\n\\nBetweenness Centrality\\n\")\n",
    "printTopN(betweennessCentrality, 10)"
   ]
  },
  {
   "cell_type": "markdown",
   "id": "hollywood-webmaster",
   "metadata": {},
   "source": [
    "Directionality is important in this graph. This is because if user1 mentions user2, it doesnt mean that user2 mentions user1. The functions used to calulate degree, closeness and betweenness centrality all work for undirected, directed as well as multigraphs. Therefore there were no problems faced with regards to directionality."
   ]
  },
  {
   "cell_type": "markdown",
   "id": "primary-administration",
   "metadata": {},
   "source": [
    "## Visualise the Graph"
   ]
  },
  {
   "cell_type": "markdown",
   "id": "coordinate-climate",
   "metadata": {},
   "source": [
    "Plots the whole graph with all the edges and labels. However this results in an undistinguishable graph."
   ]
  },
  {
   "cell_type": "raw",
   "id": "suburban-alpha",
   "metadata": {},
   "source": [
    "weights = [G[u][v]['weight'] for u,v in edges]\n",
    "\n",
    "node_sizes = []\n",
    "for n in closenessCentrality:\n",
    "    #print(closenessCentrality[n])\n",
    "    node_sizes.append(10000*closenessCentrality[n])\n",
    "\n",
    "nx.draw(G, node_size=node_sizes,with_labels=True, font_size=4, width=weights)\n",
    "plt.show()"
   ]
  },
  {
   "cell_type": "markdown",
   "id": "final-canvas",
   "metadata": {},
   "source": [
    "Instead of plotting the whole graph, we can plot the subgraph of strongly connected components of the whole graph. This will only show us the most important components of the graph. The size of the nodes also depends on their betweeness centrality, where the larger the centrality, the larger the size of the node will be. The width of the vertices/arrows also depends on the weight of the edge, meaning the number of mentions. By using the kamada_kawai drawing method we can give the graph a better visualised structure."
   ]
  },
  {
   "cell_type": "code",
   "execution_count": 24,
   "id": "specialized-sauce",
   "metadata": {},
   "outputs": [
    {
     "data": {
      "image/png": "[encoded data removed]",
      "text/plain": [
       "<Figure size 432x288 with 1 Axes>"
      ]
     },
     "metadata": {},
     "output_type": "display_data"
    }
   ],
   "source": [
    "largest_cc = max(nx.strongly_connected_components(G), key=len)\n",
    "SG = G.subgraph(largest_cc)\n",
    "\n",
    "weights = [G[u][v]['weight'] for u,v in edges]\n",
    "\n",
    "node_sizes = []\n",
    "for n in SG.nodes():\n",
    "    node_sizes.append(1000000*betweennessCentrality[n])\n",
    "\n",
    "nx.draw_kamada_kawai(SG, node_size=node_sizes, with_labels=True, font_size=8, width=weights)\n",
    "plt.show()"
   ]
  }
 ],
 "metadata": {
  "kernelspec": {
   "display_name": "Python 3",
   "language": "python",
   "name": "python3"
  },
  "language_info": {
   "codemirror_mode": {
    "name": "ipython",
    "version": 3
   },
   "file_extension": ".py",
   "mimetype": "text/x-python",
   "name": "python",
   "nbconvert_exporter": "python",
   "pygments_lexer": "ipython3",
   "version": "3.8.2"
  }
 },
 "nbformat": 4,
 "nbformat_minor": 5
}
