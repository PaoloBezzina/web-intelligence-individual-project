{
 "cells": [
  {
   "cell_type": "markdown",
   "id": "applied-detail",
   "metadata": {},
   "source": [
    "# Task 1: Graph Analytics"
   ]
  },
  {
   "cell_type": "markdown",
   "id": "apart-swiss",
   "metadata": {},
   "source": [
    "## Extracting mention Graph"
   ]
  },
  {
   "cell_type": "markdown",
   "id": "tutorial-fight",
   "metadata": {},
   "source": [
    "Importing all necessary libraries"
   ]
  },
  {
   "cell_type": "code",
   "execution_count": 1,
   "id": "conservative-freedom",
   "metadata": {},
   "outputs": [],
   "source": [
    "import csv\n",
    "import re\n",
    "import collections\n",
    "import operator\n",
    "#from collections import Counter\n",
    "import numpy as np\n",
    "import networkx as nx\n",
    "import matplotlib.pyplot as plt"
   ]
  },
  {
   "cell_type": "markdown",
   "id": "heavy-charm",
   "metadata": {},
   "source": [
    "A tweet object which contains the data extracted from the Twitter data"
   ]
  },
  {
   "cell_type": "code",
   "execution_count": 2,
   "id": "favorite-wichita",
   "metadata": {},
   "outputs": [],
   "source": [
    "class tweet:\n",
    "  def __init__(self, t):\n",
    "    self.timestamp = t[0]\n",
    "    self.author = t[1]\n",
    "    self.content = t[2]"
   ]
  },
  {
   "cell_type": "markdown",
   "id": "fluid-exploration",
   "metadata": {},
   "source": [
    "Creating the dataset of tweets from the 'twitter.tsv' file. The .tsv file was read using the csv library, which also accepts tab seperated values."
   ]
  },
  {
   "cell_type": "code",
   "execution_count": 3,
   "id": "federal-currency",
   "metadata": {},
   "outputs": [],
   "source": [
    "with open(\"twitter.tsv\", encoding=\"utf8\") as fd:\n",
    "    \n",
    "    tweets = []\n",
    "    rd = csv.reader(fd, delimiter=\"\\t\", quotechar='\"')\n",
    "\n",
    "    for row in rd:\n",
    "        tweets.append(tweet(row))"
   ]
  },
  {
   "cell_type": "markdown",
   "id": "alpha-investor",
   "metadata": {},
   "source": [
    "Creating a dictionary of edges. Using a dictionary gives us the ability to set a key pair and a corresponding value. This is useful because we can use the author of the tweet and the user mentioned as the key with the number of times mentioned as the value. This is important because the number of mentions is used as the weights on the edges of the graph.\n",
    "\n",
    "By using regex, we can extract just the user's alias without the extra @ symbol or any other characters. If a new (author, mentioned)key is found, it is added to the dictionary. If an existing (author, mentioned)key is found, the value is incremented instead. By iterating through only the tweets which contain an '@', it reduces running time and power."
   ]
  },
  {
   "cell_type": "code",
   "execution_count": 4,
   "id": "quantitative-given",
   "metadata": {},
   "outputs": [],
   "source": [
    "edges = {}\n",
    "\n",
    "for t in tweets:\n",
    "    if \"@\" in t.content:\n",
    "        mentioned = re.findall(\"@(\\w+)\",t.content)\n",
    "        for m in mentioned:\n",
    "            key = tuple([t.author, m])\n",
    "            if key in edges.keys():\n",
    "                edges[key] += 1\n",
    "            else:\n",
    "                edges[key] = 1"
   ]
  },
  {
   "cell_type": "markdown",
   "id": "excellent-kitchen",
   "metadata": {},
   "source": [
    "Creating a Directed Graph using the edges found above. It is important to have a directed graph since user1 mentioning user2 does not mean that user2 mentioned user1."
   ]
  },
  {
   "cell_type": "code",
   "execution_count": 24,
   "id": "warming-consultancy",
   "metadata": {},
   "outputs": [],
   "source": [
    "G = nx.DiGraph()\n",
    "\n",
    "for k, v in edges:\n",
    "    G.add_edge(k, v, weight=edges[(k,v)])\n",
    "    \n",
    "# Draw Full Graph\n",
    "#weights = [G[u][v]['weight'] for u,v in edges]\n",
    "#nx.draw(G, with_labels=True, node_size=60,font_size=10, width=weights)\n",
    "#plt.show()"
   ]
  },
  {
   "cell_type": "markdown",
   "id": "charming-might",
   "metadata": {},
   "source": [
    "Creates a subgraph of the largest weakly connected component."
   ]
  },
  {
   "cell_type": "code",
   "execution_count": 6,
   "id": "abstract-billy",
   "metadata": {},
   "outputs": [],
   "source": [
    "largest_cc = max(nx.weakly_connected_components(G), key=len)\n",
    "SG = G.subgraph(largest_cc)"
   ]
  },
  {
   "cell_type": "markdown",
   "id": "indoor-cross",
   "metadata": {},
   "source": [
    "## Statistics for the graph"
   ]
  },
  {
   "cell_type": "markdown",
   "id": "binary-store",
   "metadata": {},
   "source": [
    "#### Number Of Nodes\n",
    "Getting the number of nodes in the graph"
   ]
  },
  {
   "cell_type": "code",
   "execution_count": 7,
   "id": "future-vertex",
   "metadata": {},
   "outputs": [],
   "source": [
    "numberOfNodes = G.number_of_nodes()"
   ]
  },
  {
   "cell_type": "markdown",
   "id": "fresh-needle",
   "metadata": {},
   "source": [
    "#### Number Of Edges\n",
    "Getting the number of edges in the graph"
   ]
  },
  {
   "cell_type": "code",
   "execution_count": 8,
   "id": "possible-conviction",
   "metadata": {},
   "outputs": [],
   "source": [
    "numberOfEdges = G.number_of_edges()"
   ]
  },
  {
   "cell_type": "markdown",
   "id": "studied-polls",
   "metadata": {},
   "source": [
    "#### In-Degree\n",
    "Getting the number of vertices coming in to the node, from other connected nodes"
   ]
  },
  {
   "cell_type": "code",
   "execution_count": 9,
   "id": "accessible-battlefield",
   "metadata": {},
   "outputs": [],
   "source": [
    "inDegree = G.in_degree()"
   ]
  },
  {
   "cell_type": "markdown",
   "id": "intensive-limitation",
   "metadata": {},
   "source": [
    "#### Out-Degree\n",
    "Getting the number of vertices going out of the node, to other connected nodes"
   ]
  },
  {
   "cell_type": "code",
   "execution_count": 10,
   "id": "considerable-volleyball",
   "metadata": {},
   "outputs": [],
   "source": [
    "outDegree = G.out_degree()"
   ]
  },
  {
   "cell_type": "markdown",
   "id": "dressed-surname",
   "metadata": {},
   "source": [
    "#### Degree Distribution\n",
    "The degree distribution is the probability distribution of the in and out degrees over the whole network"
   ]
  },
  {
   "cell_type": "markdown",
   "id": "demographic-taste",
   "metadata": {},
   "source": [
    "##### Histogram\n",
    "By plotting the graph using a log scale, we would be able to distinguish the results better since the graph wouldnt be so squashed."
   ]
  },
  {
   "cell_type": "code",
   "execution_count": 11,
   "id": "lyric-going",
   "metadata": {},
   "outputs": [
    {
     "data": {
      "image/png": "[encoded data removed]",
      "text/plain": [
       "<Figure size 432x288 with 1 Axes>"
      ]
     },
     "metadata": {
      "needs_background": "light"
     },
     "output_type": "display_data"
    }
   ],
   "source": [
    "plt.title(\"Degree Histogram\")\n",
    "plt.xlabel(\"Count\")\n",
    "plt.ylabel(\"Degree\")\n",
    "\n",
    "degrees = [G.degree(n) for n in G.nodes()]\n",
    "\n",
    "plt.hist(degrees,log='true')\n",
    "plt.show()"
   ]
  },
  {
   "cell_type": "markdown",
   "id": "hired-basketball",
   "metadata": {},
   "source": [
    "##### Scatter Plot\n",
    "A scatter plot can give us a better indication as to how exactly the degree distribution is spread"
   ]
  },
  {
   "cell_type": "code",
   "execution_count": 27,
   "id": "solved-planet",
   "metadata": {},
   "outputs": [
    {
     "data": {
      "image/png": "[encoded data removed]",
      "text/plain": [
       "<Figure size 432x288 with 1 Axes>"
      ]
     },
     "metadata": {
      "needs_background": "light"
     },
     "output_type": "display_data"
    }
   ],
   "source": [
    "plt.title(\"Degree Scatter\")\n",
    "plt.xlabel(\"Rank\")\n",
    "plt.ylabel(\"Degree\")\n",
    "\n",
    "#creates a distribution of degrees\n",
    "degree=nx.degree_histogram(G)\n",
    "degree.sort(reverse=True)\n",
    "\n",
    "#Generate normalised values for y according to degree\n",
    "y=[z/float(sum(degree))for z in degree]\n",
    "\n",
    "#Generate X axis sequence, from 1 to maximum degree\n",
    "x=range(len(degree))\n",
    "plt.scatter(x,y,s=1,color=(1,0,0))\n",
    "\n",
    "plt.show()"
   ]
  },
  {
   "cell_type": "markdown",
   "id": "accredited-fossil",
   "metadata": {},
   "source": [
    "#### Average Path Length\n",
    "Average path length is the sum of path lengths between all pairs of nodes normalized by n*(n-1) where n is the number of nodes in G.\n",
    "Since this has to be worked out on a connected graph, the averagePathLength has to be calculated on the largest connected subgraph."
   ]
  },
  {
   "cell_type": "code",
   "execution_count": 13,
   "id": "viral-authorization",
   "metadata": {},
   "outputs": [],
   "source": [
    "averagePathLength = nx.average_shortest_path_length(SG)"
   ]
  },
  {
   "cell_type": "markdown",
   "id": "designing-hughes",
   "metadata": {},
   "source": [
    "#### Global Clustering Coeefficient\n",
    "The Global Clustering Coefficient is the number of closed triplets (triangles) over the total number of triplets (both open and closed). A triplet consists of three nodes connected with 2 edges c. A triangle includes three closed overlapping triplets, one centered on each of the nodes. "
   ]
  },
  {
   "cell_type": "code",
   "execution_count": 32,
   "id": "medieval-filter",
   "metadata": {},
   "outputs": [],
   "source": [
    "#The average clustering coefficient for the graph G\n",
    "clusteringCoeefficient = nx.average_clustering(G)"
   ]
  },
  {
   "cell_type": "code",
   "execution_count": 33,
   "id": "lightweight-brunswick",
   "metadata": {},
   "outputs": [],
   "source": [
    "#Compute graph transitivity, the fraction of all possible triangles present in G.\n",
    "transitivity = nx.transitivity(G)"
   ]
  },
  {
   "cell_type": "markdown",
   "id": "serious-example",
   "metadata": {},
   "source": [
    "### Printing Statistics"
   ]
  },
  {
   "cell_type": "code",
   "execution_count": 42,
   "id": "married-trash",
   "metadata": {},
   "outputs": [
    {
     "name": "stdout",
     "output_type": "stream",
     "text": [
      "Number Of Nodes:  65760 \n",
      "\n",
      "Number Of Edges:  68839 \n",
      "\n",
      "Average Shortest Path Length (for largest connected graph):  0.013634224566790034 \n",
      "\n",
      "Clustering Coefficient:  0.020226636811185247 \n",
      "\n",
      "Transitivity:  0.01666282425331309 \n",
      "\n"
     ]
    }
   ],
   "source": [
    "print(\"Number Of Nodes: \", numberOfNodes, \"\\n\")\n",
    "print(\"Number Of Edges: \", numberOfEdges, \"\\n\")\n",
    "print(\"Average Shortest Path Length (for largest connected graph): \", averagePathLength, \"\\n\")\n",
    "print(\"Clustering Coefficient: \", clusteringCoeefficient, \"\\n\")\n",
    "print(\"Transitivity: \", transitivity, \"\\n\")\n",
    "#uncomment to show (commented since the give a large output)\n",
    "#print(\"In Degree: \", inDegree, \"\\n\")\n",
    "#print(\"Out Degree: \", outDegree, \"\\n\")"
   ]
  },
  {
   "cell_type": "markdown",
   "id": "outside-basic",
   "metadata": {},
   "source": [
    "The graph is not totally connected, however there is a giant component which conatains the majority of the connected nodes \n",
    "# //add results based on the computed statistics"
   ]
  },
  {
   "cell_type": "markdown",
   "id": "becoming-specialist",
   "metadata": {},
   "source": [
    "## Determining the Top 10 users"
   ]
  },
  {
   "cell_type": "markdown",
   "id": "protected-workshop",
   "metadata": {},
   "source": [
    "Prints the keys and corresponding values from a dictionary"
   ]
  },
  {
   "cell_type": "code",
   "execution_count": 15,
   "id": "continued-resolution",
   "metadata": {},
   "outputs": [],
   "source": [
    "def printDict(d):\n",
    "    for key in d:\n",
    "        print(key, '\\t:\\t', d[key])"
   ]
  },
  {
   "cell_type": "markdown",
   "id": "touched-intent",
   "metadata": {},
   "source": [
    "Prints the top 'n' number of users from a dictionary"
   ]
  },
  {
   "cell_type": "code",
   "execution_count": 16,
   "id": "contained-patrick",
   "metadata": {},
   "outputs": [],
   "source": [
    "def printTopN(d, n):\n",
    "    counter = 1\n",
    "    for key in d:\n",
    "        print(key, '\\t:\\t', d[key])\n",
    "        if (counter >= n):\n",
    "            break\n",
    "        counter +=1"
   ]
  },
  {
   "cell_type": "markdown",
   "id": "historic-diamond",
   "metadata": {},
   "source": [
    "Sorts a dictionary according to the value in descending order"
   ]
  },
  {
   "cell_type": "code",
   "execution_count": 17,
   "id": "copyrighted-instrumentation",
   "metadata": {},
   "outputs": [],
   "source": [
    "def sortDictDesc(d):\n",
    "    sorted_d = dict( sorted(d.items(), key=operator.itemgetter(1),reverse=True))\n",
    "    return sorted_d"
   ]
  },
  {
   "cell_type": "markdown",
   "id": "isolated-fantasy",
   "metadata": {},
   "source": [
    "The degree centrality for a node v is the fraction of nodes it is connected to."
   ]
  },
  {
   "cell_type": "code",
   "execution_count": 18,
   "id": "alert-spectacular",
   "metadata": {},
   "outputs": [],
   "source": [
    "degreeCentrality = nx.degree_centrality(G)\n",
    "degreeCentrality = sortDictDesc(degreeCentrality)"
   ]
  },
  {
   "cell_type": "markdown",
   "id": "friendly-concept",
   "metadata": {},
   "source": [
    "Closeness centrality of a node u is the reciprocal of the sum of the shortest path distances from u to all n-1 other nodes."
   ]
  },
  {
   "cell_type": "code",
   "execution_count": 19,
   "id": "biblical-mixer",
   "metadata": {},
   "outputs": [],
   "source": [
    "closenessCentrality = nx.closeness_centrality(G)\n",
    "closenessCentrality = sortDictDesc(closenessCentrality)"
   ]
  },
  {
   "cell_type": "markdown",
   "id": "stupid-spread",
   "metadata": {},
   "source": [
    "Betweenness centrality of a node v is the sum of the fraction of all-pairs shortest paths that pass through v"
   ]
  },
  {
   "cell_type": "code",
   "execution_count": null,
   "id": "worthy-newspaper",
   "metadata": {},
   "outputs": [],
   "source": [
    "betweennessCentrality = nx.betweenness_centrality(G, normalized=True)\n",
    "betweennessCentrality = sortDictDesc(betweennessCentrality)"
   ]
  },
  {
   "cell_type": "code",
   "execution_count": null,
   "id": "geographic-nightlife",
   "metadata": {},
   "outputs": [],
   "source": [
    "print(\"Degree Centrality\\n\")\n",
    "printTopN(degreeCentrality, 10)\n",
    "print(\"\\n\\nCloseness Centrality\\n\")\n",
    "printTopN(closenessCentrality, 10)\n",
    "print(\"\\n\\nBetweenness Centrality\\n\")\n",
    "printTopN(betweennessCentrality, 10)"
   ]
  },
  {
   "cell_type": "markdown",
   "id": "noble-interpretation",
   "metadata": {},
   "source": [
    "Directionality is important in this graph. This is because if user1 mentions user2, it doesnt mean that user2 mentions user1. The functions used to calulate degree, closeness and betweenness centrality all work for undirected, directed as well as multigraphs. Therefore there were no problems faced with regards to directionality."
   ]
  },
  {
   "cell_type": "markdown",
   "id": "explicit-equivalent",
   "metadata": {},
   "source": [
    "## Visualise the Graph"
   ]
  },
  {
   "cell_type": "markdown",
   "id": "skilled-insider",
   "metadata": {},
   "source": [
    "Plots the whole graph with all the edges and labels. However this results in an undistinguishable graph."
   ]
  },
  {
   "cell_type": "raw",
   "id": "commercial-realtor",
   "metadata": {},
   "source": [
    "weights = [G[u][v]['weight'] for u,v in edges]\n",
    "\n",
    "node_sizes = []\n",
    "for n in closenessCentrality:\n",
    "    #print(closenessCentrality[n])\n",
    "    node_sizes.append(10000*closenessCentrality[n])\n",
    "\n",
    "nx.draw(G, node_size=node_sizes,with_labels=True, font_size=4, width=weights)\n",
    "plt.show()"
   ]
  },
  {
   "cell_type": "markdown",
   "id": "oriental-creek",
   "metadata": {},
   "source": [
    "Instead of plotting the whole graph, we can plot the subgraph of strongly connected components of the whole graph. This will only show us the most important components of the graph. The size of the nodes also depends on their betweeness centrality, where the larger the centrality, the larger the size of the node will be. The width of the vertices/arrows also depends on the weight of the edge, meaning the number of mentions."
   ]
  },
  {
   "cell_type": "code",
   "execution_count": 45,
   "id": "opening-river",
   "metadata": {},
   "outputs": [
    {
     "data": {
      "image/png": "[encoded data removed]",
      "text/plain": [
       "<Figure size 432x288 with 1 Axes>"
      ]
     },
     "metadata": {},
     "output_type": "display_data"
    }
   ],
   "source": [
    "largest_cc = max(nx.strongly_connected_components(G), key=len)\n",
    "SG = G.subgraph(largest_cc)\n",
    "\n",
    "weights = [G[u][v]['weight'] for u,v in edges]\n",
    "\n",
    "node_sizes = []\n",
    "for n in SG.nodes():\n",
    "    node_sizes.append(1000000*betweennessCentrality[n])\n",
    "\n",
    "nx.draw_kamada_kawai(SG, node_size=node_sizes, with_labels=True, font_size=8, width=weights)\n",
    "plt.show()"
   ]
  }
 ],
 "metadata": {
  "kernelspec": {
   "display_name": "Python 3",
   "language": "python",
   "name": "python3"
  },
  "language_info": {
   "codemirror_mode": {
    "name": "ipython",
    "version": 3
   },
   "file_extension": ".py",
   "mimetype": "text/x-python",
   "name": "python",
   "nbconvert_exporter": "python",
   "pygments_lexer": "ipython3",
   "version": "3.8.2"
  }
 },
 "nbformat": 4,
 "nbformat_minor": 5
}
