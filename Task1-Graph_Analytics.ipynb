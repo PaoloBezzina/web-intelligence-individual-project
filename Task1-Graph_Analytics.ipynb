{
 "cells": [
  {
   "cell_type": "code",
   "execution_count": 8,
   "id": "tight-consciousness",
   "metadata": {},
   "outputs": [],
   "source": [
    "import csv\n",
    "import re"
   ]
  },
  {
   "cell_type": "code",
   "execution_count": 2,
   "id": "accessory-sussex",
   "metadata": {},
   "outputs": [
    {
     "name": "stdout",
     "output_type": "stream",
     "text": [
      "['2009-06-08 21:49:38', 'irzhy', 'Каждый год в августе я меняю сотовый, похоже сменю Nokia E71 на новый Apple Iphone 3GS, очень интересный аппарат получился...']\n",
      "['2009-06-08 22:00:30', 'andrejbr', 'O que vocês acham: iPhone ou HTC TYTN II? #pesquisa']\n",
      "['2009-06-11 16:56:50', 'deldel22', \"How to cheat on any test easy http://bit.ly/10ZDwR swine flu h1n1 iphone air france flight father's day dallas\"]\n",
      "['2009-06-11 16:56:59', 'cameron987', '@beatrizchavez A dork? NO way... you are. I just have no shame... I #squarespace want #squarespace that #squarespace iPhone #squarespace.']\n",
      "['2009-06-11 16:57:53', 'testfiets', '#iPhone: iPhone 3G S: de jacht op simlockvrije toestellen is geopend http://tinyurl.com/mvky8g']\n",
      "['2009-06-11 16:58:25', 'sambarsanti', \"Swine Flu Letterman: An Italian iPhone Father's day. H1N1...Dallas.\"]\n",
      "['2009-06-11 16:58:32', 'kshepherd', 'More iPhoneLaunchParty photos: @blakespot + @arnoldkim - http://yfrog.com/29borj Crowd - http://yfrog.com/5dguoj']\n",
      "['2009-06-11 16:58:32', 'mieetwilight', \"Swine Flu Letterman: An Italian iPhone Father's day. H1N1...Dallas. http://bit.ly/JSKx1\"]\n",
      "['2009-06-11 16:58:37', 'phatemokid', '@kerotab oh if you iphone people can dish it you damn well better take it! Haha &lt;3']\n"
     ]
    }
   ],
   "source": [
    "with open(\"twitter.tsv\", encoding=\"utf8\") as fd:\n",
    "    \n",
    "    dataset = []\n",
    "    rd = csv.reader(fd, delimiter=\"\\t\", quotechar='\"')\n",
    "    counter = 0\n",
    "    for row in rd:\n",
    "        print(row)\n",
    "        dataset.append(row)\n",
    "        if (counter >= 8):\n",
    "            break\n",
    "        counter +=1"
   ]
  },
  {
   "cell_type": "markdown",
   "id": "graduate-submission",
   "metadata": {},
   "source": [
    "rrid taghmel xi haga hekk ghal adjacency list fejn:\n",
    "weights hija dictionary ta key pair bejn (user, mentioned) u number of times mentioned bhala value\n",
    "\n",
    "```\n",
    "weights = {\n",
    "    (0, 2): 4,result = re.findall(\"@([a-zA-Z0-9]{1,15})\", input_string)\n",
    "    (0, 4): 60,\n",
    "    (0, 3): 23,\n",
    "    (2, 3): 4,\n",
    "    (3, 1): 10,\n",
    "    (4, 2): 15,\n",
    "}\n",
    "```"
   ]
  },
  {
   "cell_type": "code",
   "execution_count": 13,
   "id": "declared-million",
   "metadata": {},
   "outputs": [
    {
     "name": "stdout",
     "output_type": "stream",
     "text": [
      "More iPhoneLaunchParty photos: @blakespot + @arnoldkim - http://yfrog.com/29borj Crowd - http://yfrog.com/5dguoj\n",
      "['blakespot', 'arnoldkim']\n"
     ]
    }
   ],
   "source": [
    "s = dataset[6][2]\n",
    "print(s)\n",
    "mentioned = re.findall(\"@([a-zA-Z0-9]{1,15})\", s)\n",
    "print(mentioned)"
   ]
  }
 ],
 "metadata": {
  "kernelspec": {
   "display_name": "Python 3",
   "language": "python",
   "name": "python3"
  },
  "language_info": {
   "codemirror_mode": {
    "name": "ipython",
    "version": 3
   },
   "file_extension": ".py",
   "mimetype": "text/x-python",
   "name": "python",
   "nbconvert_exporter": "python",
   "pygments_lexer": "ipython3",
   "version": "3.8.2"
  }
 },
 "nbformat": 4,
 "nbformat_minor": 5
}
